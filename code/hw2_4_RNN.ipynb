{
 "cells": [
  {
   "cell_type": "code",
   "execution_count": 1,
   "metadata": {
    "colab": {},
    "colab_type": "code",
    "id": "JxrcJu64gGdz"
   },
   "outputs": [],
   "source": [
    "#uses pandas and then convert to list/dict\n",
    "import pandas as pd \n",
    "import string\n",
    "from string import punctuation\n",
    "import re\n",
    "import emoji\n",
    "from nltk.tokenize import TweetTokenizer\n",
    "import nltk\n",
    "import numpy as np\n",
    "import torch.nn as nn\n",
    "import torch\n",
    "from sklearn.utils import shuffle\n",
    "from torch.nn import functional as F\n",
    "import matplotlib.pyplot as plt\n",
    "import scikitplot as skplt\n",
    "from torch.autograd import Variable\n",
    "\n",
    "from torch.nn.utils.rnn import pack_padded_sequence, pad_packed_sequence\n",
    "import itertools\n",
    "import time\n",
    "import contractions\n",
    "import pickle\n",
    "import os\n",
    "import numpy as np\n",
    "import sklearn.metrics as sm"
   ]
  },
  {
   "cell_type": "markdown",
   "metadata": {},
   "source": [
    "**Load Datasets**"
   ]
  },
  {
   "cell_type": "code",
   "execution_count": 2,
   "metadata": {
    "colab": {},
    "colab_type": "code",
    "id": "wwBf8mpmhML7"
   },
   "outputs": [],
   "source": [
    "data_folder = 'data/'\n",
    "#glove_folder = 'E:/rajiur/workspace/nlp/data/'\n",
    "glove_folder = 'D:/workspace/nlp/glove/'"
   ]
  },
  {
   "cell_type": "code",
   "execution_count": 3,
   "metadata": {},
   "outputs": [],
   "source": [
    "dftrain = pd.read_pickle('train_tokenized_df.pkl')\n",
    "dfdev = pd.read_pickle('dev_tokenized_df.pkl')"
   ]
  },
  {
   "cell_type": "code",
   "execution_count": 4,
   "metadata": {},
   "outputs": [],
   "source": [
    "dev_set = dfdev.to_dict('records')\n",
    "train_set = dftrain.to_dict('records')"
   ]
  },
  {
   "cell_type": "code",
   "execution_count": 5,
   "metadata": {},
   "outputs": [],
   "source": [
    "with open('vocabulary.pkl', 'rb') as filehandle:\n",
    "    # read the data as binary data stream\n",
    "    vocabulary = pickle.load(filehandle)"
   ]
  },
  {
   "cell_type": "code",
   "execution_count": 6,
   "metadata": {},
   "outputs": [
    {
     "data": {
      "text/plain": [
       "22138"
      ]
     },
     "execution_count": 6,
     "metadata": {},
     "output_type": "execute_result"
    }
   ],
   "source": [
    "len(vocabulary)"
   ]
  },
  {
   "cell_type": "markdown",
   "metadata": {},
   "source": [
    "**Word Embedder**"
   ]
  },
  {
   "cell_type": "code",
   "execution_count": 7,
   "metadata": {
    "colab": {},
    "colab_type": "code",
    "id": "YodY1Tg6jPZP"
   },
   "outputs": [],
   "source": [
    "\n",
    "\n",
    "class WordEmbedder(nn.Module):\n",
    "    def __init__(self, vocab, glove_file, seqlen = 300, varlen = False):\n",
    "        super(WordEmbedder, self).__init__()\n",
    "        assert os.path.exists(glove_file) and glove_file.endswith('.txt'), glove_file\n",
    "        \n",
    "        self.emb_dim = None\n",
    "        \n",
    "        self.PAD_TOKEN = '<PAD>'\n",
    "        self.UNK_TOKEN = '<UNK>'\n",
    "        self.sequence_length = seqlen\n",
    "        self.various_length = varlen\n",
    "        \n",
    "        idx2word = [self.PAD_TOKEN, self.UNK_TOKEN]\n",
    "        idx2vect = [None, None]\n",
    "        \n",
    "        with open(glove_file, 'r', encoding='utf-8') as fp:\n",
    "            for line in fp:\n",
    "                line = line.split()\n",
    "                \n",
    "                if line[0] not in vocab:\n",
    "                    continue\n",
    "                \n",
    "                w = line[0]\n",
    "                v = np.array([float(value) for value in line[1:]])\n",
    "                \n",
    "                if self.emb_dim is None:\n",
    "                    self.emb_dim = v.shape[0]\n",
    "            \n",
    "                idx2word.append(w)\n",
    "                idx2vect.append(v)\n",
    "                \n",
    "        idx2vect[0] = np.zeros(self.emb_dim)\n",
    "        idx2vect[1] = np.mean(idx2vect[2:], axis=0)\n",
    "    \n",
    "        self.embeddings = torch.from_numpy(np.array(idx2vect)).float()\n",
    "        self.embeddings = nn.Embedding.from_pretrained(self.embeddings, freeze=False)\n",
    "        \n",
    "        self.idx2word = {i: w for i, w in enumerate(idx2word)}\n",
    "        self.word2idx = {w: i for i, w in self.idx2word.items()}\n",
    "    \n",
    "    def forward(self, samples):\n",
    "        pad_idx = self.word2idx[self.PAD_TOKEN]\n",
    "        unk_idx = self.word2idx[self.UNK_TOKEN]\n",
    "        \n",
    "        if self.various_length:\n",
    "\n",
    "            #Find the length of the longest sample\n",
    "            maxlen = max([len(s) for s in samples])\n",
    "        \n",
    "        else:\n",
    "\n",
    "            #Use a constant length for all samples\n",
    "            maxlen = self.sequence_length\n",
    "        \n",
    "        encoded = [[self.word2idx.get(token, unk_idx) for token in tokens] for tokens in samples]\n",
    "        \n",
    "        padded = np.zeros((len(samples), maxlen), dtype=int)\n",
    "        masks = torch.zeros(len(samples), maxlen).long()\n",
    "        \n",
    "        # Padding and masking\n",
    "        for i in range(len(encoded)):\n",
    "            masks[i, :len(encoded[i])] = 1\n",
    "            padded[i, :len(encoded[i])] = np.array(encoded[i])[:maxlen]\n",
    "            # encoded[i] += [pad_idx] * max(0, (maxlen - len(encoded[i])))\n",
    "        \n",
    "        encoded = torch.tensor(padded).long()\n",
    "        \n",
    "        if torch.cuda.is_available():\n",
    "            encoded = encoded.cuda()\n",
    "            masks = masks.cuda()\n",
    "        \n",
    "        result = {\n",
    "            'output': self.embeddings(encoded),\n",
    "            'mask': masks,\n",
    "            'encoded': encoded\n",
    "        }\n",
    "        \n",
    "        return result"
   ]
  },
  {
   "cell_type": "code",
   "execution_count": 8,
   "metadata": {
    "colab": {
     "base_uri": "https://localhost:8080/",
     "height": 68
    },
    "colab_type": "code",
    "id": "pEp3vP0ljUk8",
    "outputId": "0910836d-5434-4610-8c5e-f526d6587664"
   },
   "outputs": [
    {
     "data": {
      "text/plain": [
       "WordEmbedder(\n",
       "  (embeddings): Embedding(19447, 300)\n",
       ")"
      ]
     },
     "execution_count": 8,
     "metadata": {},
     "output_type": "execute_result"
    }
   ],
   "source": [
    "embedder = torch.load('embedder_glove_300d.pt')\n",
    "embedder"
   ]
  },
  {
   "cell_type": "code",
   "execution_count": null,
   "metadata": {},
   "outputs": [],
   "source": []
  },
  {
   "cell_type": "markdown",
   "metadata": {},
   "source": []
  },
  {
   "cell_type": "code",
   "execution_count": null,
   "metadata": {},
   "outputs": [],
   "source": []
  },
  {
   "cell_type": "markdown",
   "metadata": {
    "colab_type": "text",
    "id": "q_-JCBPkkoNq"
   },
   "source": [
    "**Helper Functions**"
   ]
  },
  {
   "cell_type": "code",
   "execution_count": 9,
   "metadata": {
    "colab": {},
    "colab_type": "code",
    "id": "a2bFiexQks5Y"
   },
   "outputs": [],
   "source": [
    "from sklearn.metrics import accuracy_score\n",
    "\n",
    "def track_best_model(model_path, model, epoch, best_acc, dev_acc, dev_loss):\n",
    "    if best_acc > dev_acc:\n",
    "        return best_acc, ''\n",
    "    state = {\n",
    "        'epoch': epoch,\n",
    "        'acc': dev_acc,\n",
    "        'loss': dev_loss,\n",
    "        'model': model.state_dict()\n",
    "    }\n",
    "    torch.save(state, model_path)\n",
    "    return dev_acc, ' * '\n",
    "\n",
    "def hot_target(batch_target):\n",
    "    result = []\n",
    "    for target in batch_target:\n",
    "        init_target = [0,0,0]\n",
    "        init_target[target]=1\n",
    "        result.append(init_target)\n",
    "    return result    "
   ]
  },
  {
   "cell_type": "code",
   "execution_count": 10,
   "metadata": {
    "colab": {},
    "colab_type": "code",
    "id": "XQxNjqZEktf_"
   },
   "outputs": [],
   "source": [
    "import random\n",
    "from torch.nn import functional as F\n",
    "\n",
    "def train(model, optimizer, shuffled_train_set, batch_size, loss_func=\"CE\"):\n",
    "\n",
    "    model.train()\n",
    "    \n",
    "    criterion = torch.nn.CrossEntropyLoss().to(\"cpu\")\n",
    "    total_loss = 0\n",
    "    batch_tokens, batch_target = [], []\n",
    "\n",
    "    random.Random(1234).shuffle(shuffled_train_set)\n",
    "\n",
    "    for i in range(len(shuffled_train_set)):\n",
    "\n",
    "        batch_tokens.append(shuffled_train_set[i]['tokens'])\n",
    "        batch_target.append(shuffled_train_set[i]['labelnumber'])\n",
    "\n",
    "        if len(batch_tokens) == batch_size or i == (len(shuffled_train_set) - 1):\n",
    "\n",
    "            optimizer.zero_grad()\n",
    "\n",
    "            out = model(batch_tokens)\n",
    "            y_pred = out.cpu()\n",
    "\n",
    "            if(loss_func=='CE'):\n",
    "                #loss method 1: CrossEntropyLoss\n",
    "                loss = criterion(y_pred, torch.tensor(batch_target))\n",
    "            else:\n",
    "                loss = torch.nn.functional.binary_cross_entropy(y_pred,torch.tensor(hot_target(batch_target)).float())\n",
    "            \n",
    "            total_loss += loss.item()\n",
    "\n",
    "            loss.backward()\n",
    "            optimizer.step()\n",
    "\n",
    "            batch_tokens, batch_target = [], []\n",
    "        \n",
    "    return model, shuffled_train_set"
   ]
  },
  {
   "cell_type": "code",
   "execution_count": 11,
   "metadata": {
    "colab": {},
    "colab_type": "code",
    "id": "X5sZMJ9fku9k"
   },
   "outputs": [],
   "source": [
    "def evaluate(model, dev_set, batch_size, loss_func='CE'):\n",
    "\n",
    "    model.eval()\n",
    "    criterion = torch.nn.CrossEntropyLoss().to(\"cpu\")\n",
    "    total_loss = 0\n",
    "    accurate = 0\n",
    "    batch_tokens, batch_target = [], []\n",
    "    predictions, actual = [], []\n",
    "\n",
    "    with torch.no_grad():\n",
    "        for i in range(len(dev_set)):\n",
    "            \n",
    "            batch_tokens.append(dev_set[i]['tokens'])\n",
    "            batch_target.append(dev_set[i]['labelnumber'])\n",
    "\n",
    "            if len(batch_tokens) == batch_size or i == (len(dev_set)-1):\n",
    "\n",
    "                out = model(batch_tokens)\n",
    "                #print(\"out\",out)\n",
    "                y_pred = out.cpu()\n",
    "                \n",
    "                predictions.extend(y_pred.argmax(1).tolist())\n",
    "                actual.extend(batch_target)\n",
    "               \n",
    "                if(loss_func=='CE'):\n",
    "                    loss = criterion(y_pred, torch.tensor(batch_target))\n",
    "                else:\n",
    "                    loss = torch.nn.functional.binary_cross_entropy(y_pred,torch.tensor(hot_target(batch_target)).float())\n",
    "                \n",
    "                total_loss += loss.item()\n",
    "                accurate += (y_pred.argmax(1) == torch.tensor(batch_target)).sum().item()\n",
    "                \n",
    "                 \n",
    "\n",
    "                batch_tokens, batch_target = [], []\n",
    "\n",
    "    return predictions, total_loss/len(dev_set), accurate/len(dev_set)"
   ]
  },
  {
   "cell_type": "code",
   "execution_count": 12,
   "metadata": {
    "colab": {},
    "colab_type": "code",
    "id": "ko3ufksekwnL"
   },
   "outputs": [],
   "source": [
    "import torch.optim as optim\n",
    "def training_loop(config, model_, train_set, dev_set, loss_func='CE'):\n",
    "\n",
    "    model = model_\n",
    "    optimizer = optim.SGD(model.parameters(), lr=config['lr'], momentum=config['momentum'])\n",
    "\n",
    "    shuffled_train_set = train_set\n",
    "    best_acc = 0\n",
    "    \n",
    "\n",
    "    for epoch in range(config['epoch']):\n",
    "\n",
    "        epoch_msg = '[Epoch {}] / {}'.format(epoch+1, config['epoch'])\n",
    "\n",
    "        model, shuffled_train_set = train(model, optimizer, shuffled_train_set, batch_size=64, loss_func=loss_func)\n",
    "\n",
    "        train_pred, train_loss, train_acc = evaluate(model, shuffled_train_set, batch_size=128, loss_func=loss_func)\n",
    "        epoch_msg += ' [TRAIN] Loss: {:.4f}, Acc: {:.4f}'.format(train_loss, train_acc)\n",
    "        val_pred, val_loss, val_acc = evaluate(model, dev_set, batch_size=128, loss_func=loss_func)\n",
    "        epoch_msg += ' [DEV] Loss: {:.4f}, Acc: {:.4f}'.format(val_loss, val_acc)\n",
    "        #test_pred, test_loss, test_acc = evaluate(model, test_set, batch_size=128)\n",
    "        #epoch_msg += ' [TEST] Loss: {:.4f}, Acc: {:.4f}'.format(test_loss, test_acc)\n",
    "\n",
    "        best_acc, epoch_track = track_best_model(config['checkpoint'], model, epoch, best_acc, val_acc, val_loss)\n",
    "        print(epoch_msg + epoch_track)\n",
    "\n",
    "    print('Done Training!')\n",
    "\n",
    "    state = torch.load(config['checkpoint'])\n",
    "    model.load_state_dict(state['model'])\n",
    "\n",
    "    print('Returning best model from epoch {} with loss {:.5f} and accuracy {:.5f}'.format(state['epoch'], state['loss'], state['acc']))\n",
    "    return model"
   ]
  },
  {
   "cell_type": "markdown",
   "metadata": {},
   "source": [
    "**RNN Layer**"
   ]
  },
  {
   "cell_type": "code",
   "execution_count": 33,
   "metadata": {},
   "outputs": [],
   "source": [
    "class RNNLayer(nn.Module):\n",
    "    def __init__(self, input_dim, hidden_dim):\n",
    "        super(RNNLayer, self).__init__()\n",
    "        \n",
    "        self.hidden_dim = hidden_dim\n",
    "        self.rnn = nn.RNN(input_dim, hidden_dim, bidirectional=False, dropout = 0.1, num_layers = 2)\n",
    "\n",
    "    def forward(self, vectors, mask):\n",
    "        batch_size = vectors.size(0)\n",
    "        maxlen = vectors.size(1)\n",
    "        lengths = mask.sum(-1)\n",
    "        \n",
    "        rnn_out, _ = self.rnn(vectors)  # (batch, seq_len, hidden_dim)\n",
    "        \n",
    "        assert rnn_out.size(0) == batch_size\n",
    "        assert rnn_out.size(1) == maxlen\n",
    "        assert rnn_out.size(2) == self.hidden_dim\n",
    "\n",
    "        last_hn = rnn_out[range(batch_size), lengths-1]        # (batch, hidden)\n",
    "\n",
    "        return {'output': last_hn, 'outputs': rnn_out}"
   ]
  },
  {
   "cell_type": "code",
   "execution_count": 34,
   "metadata": {},
   "outputs": [
    {
     "data": {
      "text/plain": [
       "RNNLayer(\n",
       "  (rnn): RNN(300, 64, num_layers=2, dropout=0.1)\n",
       ")"
      ]
     },
     "execution_count": 34,
     "metadata": {},
     "output_type": "execute_result"
    }
   ],
   "source": [
    "rnn_layer = RNNLayer(embedder.emb_dim, 64)\n",
    "rnn_layer"
   ]
  },
  {
   "cell_type": "code",
   "execution_count": 35,
   "metadata": {
    "colab": {},
    "colab_type": "code",
    "id": "vWAgU01GkXmC"
   },
   "outputs": [],
   "source": [
    "class MyClassifier(nn.Module):\n",
    "    def __init__(self, embedder, extractor):\n",
    "        super(MyClassifier, self).__init__()\n",
    "        self.embedder = embedder\n",
    "        self.extractor = extractor\n",
    "        self.classifier = nn.Linear(extractor.hidden_dim, 3)\n",
    "        #self.fc1 = nn.Linear(extractor.hidden_dim, 128)\n",
    "        #self.fc2 = nn.Linear(128, 64)\n",
    "        #self.classifier = nn.Linear(64, 3)\n",
    "        \n",
    "    def forward(self, tokens, targets=None):\n",
    "        embedded = self.embedder(tokens)\n",
    "        extracted = self.extractor(embedded['output'], embedded['mask'])\n",
    "        \n",
    "        #print(type(self.classifier(extracted['output'])),self.classifier(extracted['output']).shape,self.classifier(extracted['output']))\n",
    "        #print(type(torch.sigmoid(self.classifier(extracted['output']))), torch.sigmoid(self.classifier(extracted['output'])).shape, torch.sigmoid(self.classifier(extracted['output'])))\n",
    "        #print(torch.softmax(self.classifier(extracted['output']), dim=1))\n",
    "        \n",
    "        #x = self.fc1(extracted['output'])\n",
    "        #x = self.fc2(x)\n",
    "        #output = torch.softmax(self.classifier(x),dim=1)\n",
    "        output = torch.softmax(self.classifier(extracted['output']), dim=1)\n",
    "       \n",
    "        return output"
   ]
  },
  {
   "cell_type": "code",
   "execution_count": 36,
   "metadata": {
    "colab": {
     "base_uri": "https://localhost:8080/",
     "height": 170
    },
    "colab_type": "code",
    "id": "Cic38lQQkf-I",
    "outputId": "ed3f5d54-ecf0-46a7-e5ec-82ca82cc53d8"
   },
   "outputs": [
    {
     "data": {
      "text/plain": [
       "MyClassifier(\n",
       "  (embedder): WordEmbedder(\n",
       "    (embeddings): Embedding(19447, 300)\n",
       "  )\n",
       "  (extractor): RNNLayer(\n",
       "    (rnn): RNN(300, 64, num_layers=2, dropout=0.1)\n",
       "  )\n",
       "  (classifier): Linear(in_features=64, out_features=3, bias=True)\n",
       ")"
      ]
     },
     "execution_count": 36,
     "metadata": {},
     "output_type": "execute_result"
    }
   ],
   "source": [
    "rnn_model = MyClassifier(embedder, rnn_layer)\n",
    "rnn_model"
   ]
  },
  {
   "cell_type": "code",
   "execution_count": 37,
   "metadata": {
    "colab": {},
    "colab_type": "code",
    "id": "FKcCnm5rkis7"
   },
   "outputs": [
    {
     "name": "stdout",
     "output_type": "stream",
     "text": [
      "[Epoch 1] / 100 [TRAIN] Loss: 0.0080, Acc: 0.4911 [DEV] Loss: 0.0083, Acc: 0.4650 * \n",
      "[Epoch 2] / 100 [TRAIN] Loss: 0.0080, Acc: 0.4880 [DEV] Loss: 0.0084, Acc: 0.4615\n",
      "[Epoch 3] / 100 [TRAIN] Loss: 0.0080, Acc: 0.4982 [DEV] Loss: 0.0085, Acc: 0.4585\n",
      "[Epoch 4] / 100 [TRAIN] Loss: 0.0078, Acc: 0.5235 [DEV] Loss: 0.0084, Acc: 0.4495\n",
      "[Epoch 5] / 100 [TRAIN] Loss: 0.0078, Acc: 0.5381 [DEV] Loss: 0.0084, Acc: 0.4615\n",
      "[Epoch 6] / 100 [TRAIN] Loss: 0.0079, Acc: 0.5220 [DEV] Loss: 0.0086, Acc: 0.4400\n",
      "[Epoch 7] / 100 [TRAIN] Loss: 0.0077, Acc: 0.5515 [DEV] Loss: 0.0086, Acc: 0.4525\n",
      "[Epoch 8] / 100 [TRAIN] Loss: 0.0076, Acc: 0.5737 [DEV] Loss: 0.0085, Acc: 0.4635\n",
      "[Epoch 9] / 100 [TRAIN] Loss: 0.0075, Acc: 0.5854 [DEV] Loss: 0.0085, Acc: 0.4630\n",
      "[Epoch 10] / 100 [TRAIN] Loss: 0.0080, Acc: 0.5123 [DEV] Loss: 0.0087, Acc: 0.4530\n",
      "[Epoch 11] / 100 [TRAIN] Loss: 0.0075, Acc: 0.5881 [DEV] Loss: 0.0085, Acc: 0.4655 * \n",
      "[Epoch 12] / 100 [TRAIN] Loss: 0.0075, Acc: 0.5873 [DEV] Loss: 0.0087, Acc: 0.4415\n",
      "[Epoch 13] / 100 [TRAIN] Loss: 0.0074, Acc: 0.5969 [DEV] Loss: 0.0086, Acc: 0.4585\n",
      "[Epoch 14] / 100 [TRAIN] Loss: 0.0074, Acc: 0.5963 [DEV] Loss: 0.0086, Acc: 0.4600\n",
      "[Epoch 15] / 100 [TRAIN] Loss: 0.0073, Acc: 0.6177 [DEV] Loss: 0.0086, Acc: 0.4590\n",
      "[Epoch 16] / 100 [TRAIN] Loss: 0.0073, Acc: 0.6130 [DEV] Loss: 0.0086, Acc: 0.4590\n",
      "[Epoch 17] / 100 [TRAIN] Loss: 0.0074, Acc: 0.5926 [DEV] Loss: 0.0085, Acc: 0.4615\n",
      "[Epoch 18] / 100 [TRAIN] Loss: 0.0072, Acc: 0.6226 [DEV] Loss: 0.0086, Acc: 0.4640\n",
      "[Epoch 19] / 100 [TRAIN] Loss: 0.0073, Acc: 0.6168 [DEV] Loss: 0.0086, Acc: 0.4640\n",
      "[Epoch 20] / 100 [TRAIN] Loss: 0.0073, Acc: 0.6134 [DEV] Loss: 0.0087, Acc: 0.4500\n",
      "[Epoch 21] / 100 [TRAIN] Loss: 0.0072, Acc: 0.6241 [DEV] Loss: 0.0087, Acc: 0.4540\n",
      "[Epoch 22] / 100 [TRAIN] Loss: 0.0072, Acc: 0.6248 [DEV] Loss: 0.0086, Acc: 0.4565\n",
      "[Epoch 23] / 100 [TRAIN] Loss: 0.0073, Acc: 0.6197 [DEV] Loss: 0.0087, Acc: 0.4575\n",
      "[Epoch 24] / 100 [TRAIN] Loss: 0.0072, Acc: 0.6209 [DEV] Loss: 0.0087, Acc: 0.4490\n",
      "[Epoch 25] / 100 [TRAIN] Loss: 0.0072, Acc: 0.6318 [DEV] Loss: 0.0087, Acc: 0.4540\n",
      "[Epoch 26] / 100 [TRAIN] Loss: 0.0071, Acc: 0.6337 [DEV] Loss: 0.0088, Acc: 0.4410\n",
      "[Epoch 27] / 100 [TRAIN] Loss: 0.0071, Acc: 0.6357 [DEV] Loss: 0.0086, Acc: 0.4580\n",
      "[Epoch 28] / 100 [TRAIN] Loss: 0.0072, Acc: 0.6207 [DEV] Loss: 0.0087, Acc: 0.4510\n",
      "[Epoch 29] / 100 [TRAIN] Loss: 0.0072, Acc: 0.6212 [DEV] Loss: 0.0087, Acc: 0.4550\n",
      "[Epoch 30] / 100 [TRAIN] Loss: 0.0071, Acc: 0.6352 [DEV] Loss: 0.0087, Acc: 0.4530\n",
      "[Epoch 31] / 100 [TRAIN] Loss: 0.0072, Acc: 0.6330 [DEV] Loss: 0.0087, Acc: 0.4495\n",
      "[Epoch 32] / 100 [TRAIN] Loss: 0.0072, Acc: 0.6332 [DEV] Loss: 0.0086, Acc: 0.4625\n",
      "[Epoch 33] / 100 [TRAIN] Loss: 0.0071, Acc: 0.6358 [DEV] Loss: 0.0087, Acc: 0.4585\n",
      "[Epoch 34] / 100 [TRAIN] Loss: 0.0072, Acc: 0.6352 [DEV] Loss: 0.0088, Acc: 0.4420\n",
      "[Epoch 35] / 100 [TRAIN] Loss: 0.0071, Acc: 0.6368 [DEV] Loss: 0.0087, Acc: 0.4465\n",
      "[Epoch 36] / 100 [TRAIN] Loss: 0.0071, Acc: 0.6351 [DEV] Loss: 0.0086, Acc: 0.4555\n",
      "[Epoch 37] / 100 [TRAIN] Loss: 0.0071, Acc: 0.6389 [DEV] Loss: 0.0087, Acc: 0.4525\n",
      "[Epoch 38] / 100 [TRAIN] Loss: 0.0072, Acc: 0.6342 [DEV] Loss: 0.0087, Acc: 0.4540\n",
      "[Epoch 39] / 100 [TRAIN] Loss: 0.0071, Acc: 0.6339 [DEV] Loss: 0.0087, Acc: 0.4535\n",
      "[Epoch 40] / 100 [TRAIN] Loss: 0.0072, Acc: 0.6344 [DEV] Loss: 0.0087, Acc: 0.4520\n",
      "[Epoch 41] / 100 [TRAIN] Loss: 0.0072, Acc: 0.6347 [DEV] Loss: 0.0087, Acc: 0.4530\n",
      "[Epoch 42] / 100 [TRAIN] Loss: 0.0071, Acc: 0.6362 [DEV] Loss: 0.0086, Acc: 0.4645\n",
      "[Epoch 43] / 100 [TRAIN] Loss: 0.0071, Acc: 0.6409 [DEV] Loss: 0.0087, Acc: 0.4505\n",
      "[Epoch 44] / 100 [TRAIN] Loss: 0.0071, Acc: 0.6381 [DEV] Loss: 0.0087, Acc: 0.4530\n",
      "[Epoch 45] / 100 [TRAIN] Loss: 0.0071, Acc: 0.6424 [DEV] Loss: 0.0087, Acc: 0.4490\n",
      "[Epoch 46] / 100 [TRAIN] Loss: 0.0071, Acc: 0.6395 [DEV] Loss: 0.0087, Acc: 0.4555\n",
      "[Epoch 47] / 100 [TRAIN] Loss: 0.0071, Acc: 0.6440 [DEV] Loss: 0.0087, Acc: 0.4500\n",
      "[Epoch 48] / 100 [TRAIN] Loss: 0.0071, Acc: 0.6453 [DEV] Loss: 0.0087, Acc: 0.4590\n",
      "[Epoch 49] / 100 [TRAIN] Loss: 0.0071, Acc: 0.6428 [DEV] Loss: 0.0087, Acc: 0.4535\n",
      "[Epoch 50] / 100 [TRAIN] Loss: 0.0071, Acc: 0.6398 [DEV] Loss: 0.0087, Acc: 0.4540\n",
      "[Epoch 51] / 100 [TRAIN] Loss: 0.0071, Acc: 0.6399 [DEV] Loss: 0.0087, Acc: 0.4545\n",
      "[Epoch 52] / 100 [TRAIN] Loss: 0.0071, Acc: 0.6397 [DEV] Loss: 0.0087, Acc: 0.4630\n",
      "[Epoch 53] / 100 [TRAIN] Loss: 0.0071, Acc: 0.6466 [DEV] Loss: 0.0087, Acc: 0.4605\n",
      "[Epoch 54] / 100 [TRAIN] Loss: 0.0071, Acc: 0.6332 [DEV] Loss: 0.0087, Acc: 0.4565\n",
      "[Epoch 55] / 100 [TRAIN] Loss: 0.0071, Acc: 0.6480 [DEV] Loss: 0.0087, Acc: 0.4590\n",
      "[Epoch 56] / 100 [TRAIN] Loss: 0.0071, Acc: 0.6398 [DEV] Loss: 0.0087, Acc: 0.4505\n",
      "[Epoch 57] / 100 [TRAIN] Loss: 0.0071, Acc: 0.6461 [DEV] Loss: 0.0087, Acc: 0.4585\n",
      "[Epoch 58] / 100 [TRAIN] Loss: 0.0071, Acc: 0.6372 [DEV] Loss: 0.0087, Acc: 0.4620\n",
      "[Epoch 59] / 100 [TRAIN] Loss: 0.0071, Acc: 0.6399 [DEV] Loss: 0.0087, Acc: 0.4640\n",
      "[Epoch 60] / 100 [TRAIN] Loss: 0.0071, Acc: 0.6422 [DEV] Loss: 0.0087, Acc: 0.4565\n",
      "[Epoch 61] / 100 [TRAIN] Loss: 0.0071, Acc: 0.6494 [DEV] Loss: 0.0087, Acc: 0.4505\n",
      "[Epoch 62] / 100 [TRAIN] Loss: 0.0071, Acc: 0.6476 [DEV] Loss: 0.0087, Acc: 0.4625\n",
      "[Epoch 63] / 100 [TRAIN] Loss: 0.0070, Acc: 0.6486 [DEV] Loss: 0.0086, Acc: 0.4625\n",
      "[Epoch 64] / 100 [TRAIN] Loss: 0.0071, Acc: 0.6384 [DEV] Loss: 0.0087, Acc: 0.4620\n",
      "[Epoch 65] / 100 [TRAIN] Loss: 0.0071, Acc: 0.6430 [DEV] Loss: 0.0086, Acc: 0.4675 * \n",
      "[Epoch 66] / 100 [TRAIN] Loss: 0.0071, Acc: 0.6428 [DEV] Loss: 0.0087, Acc: 0.4590\n",
      "[Epoch 67] / 100 [TRAIN] Loss: 0.0071, Acc: 0.6478 [DEV] Loss: 0.0087, Acc: 0.4520\n",
      "[Epoch 68] / 100 [TRAIN] Loss: 0.0071, Acc: 0.6488 [DEV] Loss: 0.0087, Acc: 0.4545\n",
      "[Epoch 69] / 100 [TRAIN] Loss: 0.0070, Acc: 0.6489 [DEV] Loss: 0.0087, Acc: 0.4600\n",
      "[Epoch 70] / 100 [TRAIN] Loss: 0.0070, Acc: 0.6510 [DEV] Loss: 0.0086, Acc: 0.4615\n",
      "[Epoch 71] / 100 [TRAIN] Loss: 0.0071, Acc: 0.6476 [DEV] Loss: 0.0087, Acc: 0.4590\n",
      "[Epoch 72] / 100 [TRAIN] Loss: 0.0070, Acc: 0.6491 [DEV] Loss: 0.0087, Acc: 0.4570\n",
      "[Epoch 73] / 100 [TRAIN] Loss: 0.0071, Acc: 0.6465 [DEV] Loss: 0.0087, Acc: 0.4570\n",
      "[Epoch 74] / 100 [TRAIN] Loss: 0.0071, Acc: 0.6475 [DEV] Loss: 0.0087, Acc: 0.4625\n",
      "[Epoch 75] / 100 [TRAIN] Loss: 0.0071, Acc: 0.6456 [DEV] Loss: 0.0087, Acc: 0.4545\n",
      "[Epoch 76] / 100 [TRAIN] Loss: 0.0071, Acc: 0.6415 [DEV] Loss: 0.0087, Acc: 0.4610\n",
      "[Epoch 77] / 100 [TRAIN] Loss: 0.0071, Acc: 0.6452 [DEV] Loss: 0.0087, Acc: 0.4515\n",
      "[Epoch 78] / 100 [TRAIN] Loss: 0.0071, Acc: 0.6489 [DEV] Loss: 0.0087, Acc: 0.4545\n",
      "[Epoch 79] / 100 [TRAIN] Loss: 0.0071, Acc: 0.6485 [DEV] Loss: 0.0088, Acc: 0.4455\n",
      "[Epoch 80] / 100 [TRAIN] Loss: 0.0071, Acc: 0.6489 [DEV] Loss: 0.0087, Acc: 0.4595\n",
      "[Epoch 81] / 100 [TRAIN] Loss: 0.0071, Acc: 0.6421 [DEV] Loss: 0.0087, Acc: 0.4550\n",
      "[Epoch 82] / 100 [TRAIN] Loss: 0.0072, Acc: 0.6360 [DEV] Loss: 0.0087, Acc: 0.4570\n",
      "[Epoch 83] / 100 [TRAIN] Loss: 0.0071, Acc: 0.6489 [DEV] Loss: 0.0087, Acc: 0.4495\n",
      "[Epoch 84] / 100 [TRAIN] Loss: 0.0071, Acc: 0.6462 [DEV] Loss: 0.0088, Acc: 0.4505\n",
      "[Epoch 85] / 100 [TRAIN] Loss: 0.0071, Acc: 0.6452 [DEV] Loss: 0.0088, Acc: 0.4395\n",
      "[Epoch 86] / 100 [TRAIN] Loss: 0.0071, Acc: 0.6432 [DEV] Loss: 0.0088, Acc: 0.4390\n",
      "[Epoch 87] / 100 [TRAIN] Loss: 0.0070, Acc: 0.6498 [DEV] Loss: 0.0087, Acc: 0.4545\n",
      "[Epoch 88] / 100 [TRAIN] Loss: 0.0071, Acc: 0.6488 [DEV] Loss: 0.0087, Acc: 0.4525\n",
      "[Epoch 89] / 100 [TRAIN] Loss: 0.0070, Acc: 0.6501 [DEV] Loss: 0.0088, Acc: 0.4500\n",
      "[Epoch 90] / 100 [TRAIN] Loss: 0.0071, Acc: 0.6476 [DEV] Loss: 0.0087, Acc: 0.4540\n",
      "[Epoch 91] / 100 [TRAIN] Loss: 0.0070, Acc: 0.6492 [DEV] Loss: 0.0087, Acc: 0.4590\n",
      "[Epoch 92] / 100 [TRAIN] Loss: 0.0071, Acc: 0.6429 [DEV] Loss: 0.0087, Acc: 0.4575\n",
      "[Epoch 93] / 100 [TRAIN] Loss: 0.0071, Acc: 0.6465 [DEV] Loss: 0.0087, Acc: 0.4565\n",
      "[Epoch 94] / 100 [TRAIN] Loss: 0.0071, Acc: 0.6438 [DEV] Loss: 0.0087, Acc: 0.4565\n",
      "[Epoch 95] / 100 [TRAIN] Loss: 0.0071, Acc: 0.6492 [DEV] Loss: 0.0087, Acc: 0.4625\n",
      "[Epoch 96] / 100 [TRAIN] Loss: 0.0071, Acc: 0.6462 [DEV] Loss: 0.0087, Acc: 0.4500\n",
      "[Epoch 97] / 100 [TRAIN] Loss: 0.0070, Acc: 0.6512 [DEV] Loss: 0.0087, Acc: 0.4540\n",
      "[Epoch 98] / 100 [TRAIN] Loss: 0.0071, Acc: 0.6429 [DEV] Loss: 0.0087, Acc: 0.4545\n",
      "[Epoch 99] / 100 [TRAIN] Loss: 0.0070, Acc: 0.6493 [DEV] Loss: 0.0087, Acc: 0.4540\n",
      "[Epoch 100] / 100 [TRAIN] Loss: 0.0071, Acc: 0.6468 [DEV] Loss: 0.0087, Acc: 0.4530\n",
      "Done Training!\n",
      "Returning best model from epoch 64 with loss 0.00862 and accuracy 0.46750\n"
     ]
    }
   ],
   "source": [
    "config = {\n",
    "    'lr': 0.2,#1e-3,\n",
    "    'momentum': 0.9, #0.99,\n",
    "    'epoch': 100,\n",
    "    'checkpoint': 'rnn_model_2.pt'\n",
    "}\n",
    "model7 = training_loop(config, rnn_model, train_set, dev_set)"
   ]
  },
  {
   "cell_type": "code",
   "execution_count": null,
   "metadata": {},
   "outputs": [],
   "source": []
  },
  {
   "cell_type": "code",
   "execution_count": 38,
   "metadata": {},
   "outputs": [],
   "source": [
    "train_tokens = [row['tokens'] for index,row in dftrain.iterrows()]\n",
    "dev_tokens = [row['tokens'] for index,row in dfdev.iterrows()]"
   ]
  },
  {
   "cell_type": "code",
   "execution_count": 39,
   "metadata": {},
   "outputs": [],
   "source": [
    "class2index = {'OAG':2,'CAG':0,'NAG':1}\n",
    "index2class = {2:'OAG',0:'CAG',1:'NAG'}"
   ]
  },
  {
   "cell_type": "code",
   "execution_count": 40,
   "metadata": {},
   "outputs": [],
   "source": [
    "out = model7(dev_tokens)\n",
    "dev_pred = out.cpu().argmax(1).tolist()"
   ]
  },
  {
   "cell_type": "code",
   "execution_count": 41,
   "metadata": {},
   "outputs": [],
   "source": [
    "dev_label=[]\n",
    "for i in range(len(dev_set)):\n",
    "    dev_label.append(dev_set[i]['labelnumber'])\n",
    "dev_pred_class = [index2class[x]  for x in dev_pred]\n",
    "dev_label_class = [index2class[x]  for x in dev_label]"
   ]
  },
  {
   "cell_type": "code",
   "execution_count": 42,
   "metadata": {},
   "outputs": [
    {
     "name": "stdout",
     "output_type": "stream",
     "text": [
      "['CAG', 'NAG', 'NAG', 'NAG', 'OAG', 'CAG', 'NAG', 'CAG', 'CAG', 'CAG', 'NAG', 'NAG', 'NAG', 'OAG', 'CAG', 'CAG', 'CAG', 'CAG', 'OAG', 'NAG']\n",
      "['NAG', 'NAG', 'OAG', 'NAG', 'CAG', 'CAG', 'CAG', 'CAG', 'OAG', 'NAG', 'CAG', 'NAG', 'NAG', 'CAG', 'CAG', 'NAG', 'CAG', 'CAG', 'CAG', 'NAG']\n"
     ]
    }
   ],
   "source": [
    "print(dev_label_class[:20])\n",
    "print(dev_pred_class[:20])"
   ]
  },
  {
   "cell_type": "code",
   "execution_count": 43,
   "metadata": {},
   "outputs": [
    {
     "name": "stdout",
     "output_type": "stream",
     "text": [
      "              precision    recall  f1-score   support\n",
      "\n",
      "         OAG       0.41      0.55      0.47       700\n",
      "         NAG       0.54      0.56      0.55       815\n",
      "         CAG       0.39      0.19      0.26       485\n",
      "\n",
      "    accuracy                           0.47      2000\n",
      "   macro avg       0.45      0.43      0.43      2000\n",
      "weighted avg       0.46      0.47      0.45      2000\n",
      "\n"
     ]
    }
   ],
   "source": [
    "target_names = ['OAG', 'NAG', 'CAG']\n",
    "print(sm.classification_report(dev_label_class, dev_pred_class,target_names=target_names))"
   ]
  },
  {
   "cell_type": "code",
   "execution_count": 44,
   "metadata": {},
   "outputs": [
    {
     "name": "stdout",
     "output_type": "stream",
     "text": [
      "[[ 93 249 143]\n",
      " [ 79 383 238]\n",
      " [ 65 294 456]]\n"
     ]
    }
   ],
   "source": [
    "print(sm.confusion_matrix(dev_label_class, dev_pred_class, labels=['OAG', 'CAG', 'NAG']) )"
   ]
  },
  {
   "cell_type": "code",
   "execution_count": 45,
   "metadata": {},
   "outputs": [
    {
     "data": {
      "image/png": "[encoded data removed]",
      "text/plain": [
       "<Figure size 432x288 with 2 Axes>"
      ]
     },
     "metadata": {
      "needs_background": "light"
     },
     "output_type": "display_data"
    }
   ],
   "source": [
    "\n",
    "skplt.metrics.plot_confusion_matrix(dev_label_class, dev_pred_class, normalize=False)\n",
    "plt.show()"
   ]
  },
  {
   "cell_type": "markdown",
   "metadata": {},
   "source": [
    "**Saving predictions**"
   ]
  },
  {
   "cell_type": "code",
   "execution_count": 46,
   "metadata": {},
   "outputs": [],
   "source": [
    "dftest = pd.read_pickle('test_tokenized_df.pkl')"
   ]
  },
  {
   "cell_type": "code",
   "execution_count": 47,
   "metadata": {},
   "outputs": [],
   "source": [
    "test_set = dftest.to_dict('records')"
   ]
  },
  {
   "cell_type": "code",
   "execution_count": 48,
   "metadata": {},
   "outputs": [
    {
     "data": {
      "text/plain": [
       "1001"
      ]
     },
     "execution_count": 48,
     "metadata": {},
     "output_type": "execute_result"
    }
   ],
   "source": [
    "len(test_set)"
   ]
  },
  {
   "cell_type": "code",
   "execution_count": 49,
   "metadata": {},
   "outputs": [],
   "source": [
    "def test(model_, test_set_, batch_size_):\n",
    "    model = model_\n",
    "    model_.eval()\n",
    "    criterion = torch.nn.CrossEntropyLoss().to(\"cpu\")\n",
    "\n",
    "    batch_tokens = []\n",
    "    predictions = []\n",
    "    batch_count = 0\n",
    "\n",
    "    with torch.no_grad():\n",
    "        for i in range(len(test_set_)):\n",
    "            \n",
    "            batch_tokens.append(test_set_[i]['tokens'])\n",
    "\n",
    "            if len(batch_tokens) == batch_size_ or i == (len(test_set_)-1):\n",
    "                batch_count+=1\n",
    "                out = model(batch_tokens)\n",
    "                #print(\"out\",out)\n",
    "                y_pred = out.cpu()\n",
    "                #print(\"y_pred\",y_pred)\n",
    "\n",
    "                predictions.extend(y_pred.argmax(1).tolist())\n",
    "                \n",
    "                #print(batch_count,len(batch_tokens))\n",
    "                batch_tokens = []\n",
    "                \n",
    "    \n",
    "    #print(\"evaluate actual\",actual)\n",
    "    #print(\"evaluate predic\",predictions)\n",
    "    #accuracy = accuracy_score(actual, predictions)\n",
    "    \n",
    "    #print(accurate,len(test_set_))\n",
    "    \n",
    "    #print(\"evaluate loss\",total_loss/len(test_set), \"accurary\",accurate/len(test_set))\n",
    "\n",
    "    return predictions"
   ]
  },
  {
   "cell_type": "code",
   "execution_count": 50,
   "metadata": {},
   "outputs": [],
   "source": [
    "predictions = test(model7,test_set, 128)"
   ]
  },
  {
   "cell_type": "code",
   "execution_count": 51,
   "metadata": {},
   "outputs": [
    {
     "data": {
      "text/plain": [
       "1001"
      ]
     },
     "execution_count": 51,
     "metadata": {},
     "output_type": "execute_result"
    }
   ],
   "source": [
    "len(predictions)"
   ]
  },
  {
   "cell_type": "code",
   "execution_count": 52,
   "metadata": {},
   "outputs": [],
   "source": [
    "predictedlabels = [index2class[x] for x in predictions]"
   ]
  },
  {
   "cell_type": "code",
   "execution_count": 58,
   "metadata": {},
   "outputs": [
    {
     "data": {
      "text/plain": [
       "(1001, 1001)"
      ]
     },
     "execution_count": 58,
     "metadata": {},
     "output_type": "execute_result"
    }
   ],
   "source": [
    "len(predictedlabels), len(dftest)"
   ]
  },
  {
   "cell_type": "code",
   "execution_count": null,
   "metadata": {},
   "outputs": [],
   "source": []
  },
  {
   "cell_type": "code",
   "execution_count": 59,
   "metadata": {},
   "outputs": [],
   "source": [
    "dftest['Label'] = predictedlabels"
   ]
  },
  {
   "cell_type": "code",
   "execution_count": 60,
   "metadata": {},
   "outputs": [
    {
     "data": {
      "text/html": [
       "<div>\n",
       "<style scoped>\n",
       "    .dataframe tbody tr th:only-of-type {\n",
       "        vertical-align: middle;\n",
       "    }\n",
       "\n",
       "    .dataframe tbody tr th {\n",
       "        vertical-align: top;\n",
       "    }\n",
       "\n",
       "    .dataframe thead th {\n",
       "        text-align: right;\n",
       "    }\n",
       "</style>\n",
       "<table border=\"1\" class=\"dataframe\">\n",
       "  <thead>\n",
       "    <tr style=\"text-align: right;\">\n",
       "      <th></th>\n",
       "      <th>ID</th>\n",
       "      <th>Label</th>\n",
       "    </tr>\n",
       "  </thead>\n",
       "  <tbody>\n",
       "    <tr>\n",
       "      <th>0</th>\n",
       "      <td>facebook_corpus_msr_495558</td>\n",
       "      <td>CAG</td>\n",
       "    </tr>\n",
       "    <tr>\n",
       "      <th>1</th>\n",
       "      <td>facebook_corpus_msr_1561809</td>\n",
       "      <td>OAG</td>\n",
       "    </tr>\n",
       "    <tr>\n",
       "      <th>2</th>\n",
       "      <td>facebook_corpus_msr_442487</td>\n",
       "      <td>CAG</td>\n",
       "    </tr>\n",
       "    <tr>\n",
       "      <th>3</th>\n",
       "      <td>facebook_corpus_msr_495517</td>\n",
       "      <td>NAG</td>\n",
       "    </tr>\n",
       "    <tr>\n",
       "      <th>4</th>\n",
       "      <td>facebook_corpus_msr_1805455</td>\n",
       "      <td>NAG</td>\n",
       "    </tr>\n",
       "  </tbody>\n",
       "</table>\n",
       "</div>"
      ],
      "text/plain": [
       "                            ID Label\n",
       "0   facebook_corpus_msr_495558   CAG\n",
       "1  facebook_corpus_msr_1561809   OAG\n",
       "2   facebook_corpus_msr_442487   CAG\n",
       "3   facebook_corpus_msr_495517   NAG\n",
       "4  facebook_corpus_msr_1805455   NAG"
      ]
     },
     "execution_count": 60,
     "metadata": {},
     "output_type": "execute_result"
    }
   ],
   "source": [
    "dftest[['ID','Label']].head()"
   ]
  },
  {
   "cell_type": "code",
   "execution_count": 61,
   "metadata": {},
   "outputs": [],
   "source": [
    "dftest.to_csv('prediction_rnn_all.csv',index=False)"
   ]
  },
  {
   "cell_type": "code",
   "execution_count": null,
   "metadata": {},
   "outputs": [],
   "source": []
  },
  {
   "cell_type": "code",
   "execution_count": null,
   "metadata": {},
   "outputs": [],
   "source": []
  },
  {
   "cell_type": "markdown",
   "metadata": {},
   "source": [
    "**Analysis**"
   ]
  },
  {
   "cell_type": "code",
   "execution_count": 31,
   "metadata": {},
   "outputs": [
    {
     "data": {
      "text/plain": [
       "<All keys matched successfully>"
      ]
     },
     "execution_count": 31,
     "metadata": {},
     "output_type": "execute_result"
    }
   ],
   "source": [
    "state = torch.load('bigru_model.pt')\n",
    "bigru_model.load_state_dict(state['model'])"
   ]
  },
  {
   "cell_type": "code",
   "execution_count": 32,
   "metadata": {},
   "outputs": [
    {
     "data": {
      "text/plain": [
       "[['the',\n",
       "  'quality',\n",
       "  'of',\n",
       "  're',\n",
       "  'made',\n",
       "  'now',\n",
       "  'makes',\n",
       "  'me',\n",
       "  'think',\n",
       "  'it',\n",
       "  'is',\n",
       "  'something',\n",
       "  'to',\n",
       "  'be',\n",
       "  'bought',\n",
       "  'from',\n",
       "  'fish',\n",
       "  'market'],\n",
       " ['siva',\n",
       "  'how',\n",
       "  'is',\n",
       "  'ur',\n",
       "  'mother',\n",
       "  'how',\n",
       "  'is',\n",
       "  'ur',\n",
       "  'wife',\n",
       "  'how',\n",
       "  'is',\n",
       "  'ur',\n",
       "  'sister',\n",
       "  'hope',\n",
       "  'everyone',\n",
       "  'is',\n",
       "  'fine']]"
      ]
     },
     "execution_count": 32,
     "metadata": {},
     "output_type": "execute_result"
    }
   ],
   "source": [
    "dev_tokens[:2]"
   ]
  },
  {
   "cell_type": "code",
   "execution_count": 54,
   "metadata": {},
   "outputs": [],
   "source": [
    "out =  model7(dev_tokens)\n",
    "dev_pred = out.cpu().argmax(1).tolist()"
   ]
  },
  {
   "cell_type": "code",
   "execution_count": 55,
   "metadata": {},
   "outputs": [
    {
     "data": {
      "text/plain": [
       "[1, 1]"
      ]
     },
     "execution_count": 55,
     "metadata": {},
     "output_type": "execute_result"
    }
   ],
   "source": [
    "dev_pred[:2]"
   ]
  },
  {
   "cell_type": "code",
   "execution_count": 56,
   "metadata": {},
   "outputs": [],
   "source": [
    "dev_pred_class = [index2class[x]  for x in dev_pred]"
   ]
  },
  {
   "cell_type": "code",
   "execution_count": 57,
   "metadata": {},
   "outputs": [],
   "source": [
    "pd.DataFrame(dev_pred_class).to_csv('dev_prediction_rnn.csv',index=False)"
   ]
  },
  {
   "cell_type": "code",
   "execution_count": null,
   "metadata": {},
   "outputs": [],
   "source": []
  }
 ],
 "metadata": {
  "kernelspec": {
   "display_name": "Python 3",
   "language": "python",
   "name": "python3"
  },
  "language_info": {
   "codemirror_mode": {
    "name": "ipython",
    "version": 3
   },
   "file_extension": ".py",
   "mimetype": "text/x-python",
   "name": "python",
   "nbconvert_exporter": "python",
   "pygments_lexer": "ipython3",
   "version": "3.7.7"
  }
 },
 "nbformat": 4,
 "nbformat_minor": 4
}
