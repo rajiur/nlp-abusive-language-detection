{
 "cells": [
  {
   "cell_type": "code",
   "execution_count": 1,
   "metadata": {
    "colab": {},
    "colab_type": "code",
    "id": "JxrcJu64gGdz"
   },
   "outputs": [],
   "source": [
    "#uses pandas and then convert to list/dict\n",
    "import pandas as pd \n",
    "import string\n",
    "from string import punctuation\n",
    "import re\n",
    "import emoji\n",
    "from nltk.tokenize import TweetTokenizer\n",
    "import nltk\n",
    "import numpy as np\n",
    "import torch.nn as nn\n",
    "import torch\n",
    "from sklearn.utils import shuffle\n",
    "from torch.nn import functional as F\n",
    "import matplotlib.pyplot as plt\n",
    "import scikitplot as skplt\n",
    "from torch.autograd import Variable\n",
    "\n",
    "from torch.nn.utils.rnn import pack_padded_sequence, pad_packed_sequence\n",
    "import itertools\n",
    "import time\n",
    "import contractions\n",
    "import pickle\n",
    "import os\n",
    "import numpy as np\n",
    "import sklearn.metrics as sm"
   ]
  },
  {
   "cell_type": "markdown",
   "metadata": {},
   "source": [
    "**Load Datasets**"
   ]
  },
  {
   "cell_type": "code",
   "execution_count": 2,
   "metadata": {
    "colab": {},
    "colab_type": "code",
    "id": "wwBf8mpmhML7"
   },
   "outputs": [],
   "source": [
    "data_folder = 'data/'\n",
    "#glove_folder = 'E:/rajiur/workspace/nlp/data/'\n",
    "glove_folder = 'D:/workspace/nlp/glove/'"
   ]
  },
  {
   "cell_type": "code",
   "execution_count": 3,
   "metadata": {},
   "outputs": [],
   "source": [
    "dftrain = pd.read_pickle('train_tokenized_df.pkl')\n",
    "dfdev = pd.read_pickle('dev_tokenized_df.pkl')"
   ]
  },
  {
   "cell_type": "code",
   "execution_count": 5,
   "metadata": {},
   "outputs": [
    {
     "data": {
      "text/html": [
       "<div>\n",
       "<style scoped>\n",
       "    .dataframe tbody tr th:only-of-type {\n",
       "        vertical-align: middle;\n",
       "    }\n",
       "\n",
       "    .dataframe tbody tr th {\n",
       "        vertical-align: top;\n",
       "    }\n",
       "\n",
       "    .dataframe thead th {\n",
       "        text-align: right;\n",
       "    }\n",
       "</style>\n",
       "<table border=\"1\" class=\"dataframe\">\n",
       "  <thead>\n",
       "    <tr style=\"text-align: right;\">\n",
       "      <th></th>\n",
       "      <th>ID</th>\n",
       "      <th>Comment</th>\n",
       "      <th>Label</th>\n",
       "      <th>labelnumber</th>\n",
       "      <th>commentnotlowered</th>\n",
       "      <th>tokens</th>\n",
       "      <th>tokensnotlowered</th>\n",
       "    </tr>\n",
       "  </thead>\n",
       "  <tbody>\n",
       "    <tr>\n",
       "      <th>0</th>\n",
       "      <td>facebook_corpus_msr_1723796</td>\n",
       "      <td>well said sonu  you have courage to stand agai...</td>\n",
       "      <td>OAG</td>\n",
       "      <td>2</td>\n",
       "      <td>well said sonu  you have courage to stand agai...</td>\n",
       "      <td>[well, said, sonu, you, have, courage, to, sta...</td>\n",
       "      <td>[well, said, sonu, you, have, courage, to, sta...</td>\n",
       "    </tr>\n",
       "    <tr>\n",
       "      <th>1</th>\n",
       "      <td>facebook_corpus_msr_466073</td>\n",
       "      <td>most of private banks atm s like hdfc  icici e...</td>\n",
       "      <td>NAG</td>\n",
       "      <td>1</td>\n",
       "      <td>most of private banks atm s like hdfc  icici e...</td>\n",
       "      <td>[most, of, private, banks, atm, s, like, hdfc,...</td>\n",
       "      <td>[most, of, private, banks, atm, s, like, hdfc,...</td>\n",
       "    </tr>\n",
       "    <tr>\n",
       "      <th>2</th>\n",
       "      <td>facebook_corpus_msr_1493901</td>\n",
       "      <td>now question is  pakistan will adhere to this</td>\n",
       "      <td>OAG</td>\n",
       "      <td>2</td>\n",
       "      <td>now question is  pakistan will adhere to this</td>\n",
       "      <td>[now, question, is, pakistan, will, adhere, to...</td>\n",
       "      <td>[now, question, is, pakistan, will, adhere, to...</td>\n",
       "    </tr>\n",
       "    <tr>\n",
       "      <th>3</th>\n",
       "      <td>facebook_corpus_msr_405512</td>\n",
       "      <td>pakistan is comprised of fake muslims who does...</td>\n",
       "      <td>OAG</td>\n",
       "      <td>2</td>\n",
       "      <td>pakistan is comprised of fake muslims who does...</td>\n",
       "      <td>[pakistan, is, comprised, of, fake, muslims, w...</td>\n",
       "      <td>[pakistan, is, comprised, of, fake, muslims, w...</td>\n",
       "    </tr>\n",
       "    <tr>\n",
       "      <th>4</th>\n",
       "      <td>facebook_corpus_msr_1521685</td>\n",
       "      <td>we r against cow slaughter so of course it w...</td>\n",
       "      <td>NAG</td>\n",
       "      <td>1</td>\n",
       "      <td>we r against cow slaughter so of course it w...</td>\n",
       "      <td>[we, r, against, cow, slaughter, so, of, cours...</td>\n",
       "      <td>[we, r, against, cow, slaughter, so, of, cours...</td>\n",
       "    </tr>\n",
       "  </tbody>\n",
       "</table>\n",
       "</div>"
      ],
      "text/plain": [
       "                            ID  \\\n",
       "0  facebook_corpus_msr_1723796   \n",
       "1   facebook_corpus_msr_466073   \n",
       "2  facebook_corpus_msr_1493901   \n",
       "3   facebook_corpus_msr_405512   \n",
       "4  facebook_corpus_msr_1521685   \n",
       "\n",
       "                                             Comment Label  labelnumber  \\\n",
       "0  well said sonu  you have courage to stand agai...   OAG            2   \n",
       "1  most of private banks atm s like hdfc  icici e...   NAG            1   \n",
       "2     now question is  pakistan will adhere to this    OAG            2   \n",
       "3  pakistan is comprised of fake muslims who does...   OAG            2   \n",
       "4    we r against cow slaughter so of course it w...   NAG            1   \n",
       "\n",
       "                                   commentnotlowered  \\\n",
       "0  well said sonu  you have courage to stand agai...   \n",
       "1  most of private banks atm s like hdfc  icici e...   \n",
       "2     now question is  pakistan will adhere to this    \n",
       "3  pakistan is comprised of fake muslims who does...   \n",
       "4    we r against cow slaughter so of course it w...   \n",
       "\n",
       "                                              tokens  \\\n",
       "0  [well, said, sonu, you, have, courage, to, sta...   \n",
       "1  [most, of, private, banks, atm, s, like, hdfc,...   \n",
       "2  [now, question, is, pakistan, will, adhere, to...   \n",
       "3  [pakistan, is, comprised, of, fake, muslims, w...   \n",
       "4  [we, r, against, cow, slaughter, so, of, cours...   \n",
       "\n",
       "                                    tokensnotlowered  \n",
       "0  [well, said, sonu, you, have, courage, to, sta...  \n",
       "1  [most, of, private, banks, atm, s, like, hdfc,...  \n",
       "2  [now, question, is, pakistan, will, adhere, to...  \n",
       "3  [pakistan, is, comprised, of, fake, muslims, w...  \n",
       "4  [we, r, against, cow, slaughter, so, of, cours...  "
      ]
     },
     "execution_count": 5,
     "metadata": {},
     "output_type": "execute_result"
    }
   ],
   "source": [
    "dftrain.head()"
   ]
  },
  {
   "cell_type": "code",
   "execution_count": 4,
   "metadata": {},
   "outputs": [],
   "source": [
    "dev_set = dfdev.to_dict('records')\n",
    "train_set = dftrain.to_dict('records')"
   ]
  },
  {
   "cell_type": "code",
   "execution_count": 5,
   "metadata": {},
   "outputs": [],
   "source": [
    "with open('vocabulary.pkl', 'rb') as filehandle:\n",
    "    # read the data as binary data stream\n",
    "    vocabulary = pickle.load(filehandle)"
   ]
  },
  {
   "cell_type": "code",
   "execution_count": 6,
   "metadata": {},
   "outputs": [
    {
     "data": {
      "text/plain": [
       "22138"
      ]
     },
     "execution_count": 6,
     "metadata": {},
     "output_type": "execute_result"
    }
   ],
   "source": [
    "len(vocabulary)"
   ]
  },
  {
   "cell_type": "markdown",
   "metadata": {},
   "source": [
    "**Word Embedder**"
   ]
  },
  {
   "cell_type": "code",
   "execution_count": 7,
   "metadata": {
    "colab": {},
    "colab_type": "code",
    "id": "YodY1Tg6jPZP"
   },
   "outputs": [],
   "source": [
    "\n",
    "\n",
    "class WordEmbedder(nn.Module):\n",
    "    def __init__(self, vocab, glove_file, seqlen = 300, varlen = False):\n",
    "        super(WordEmbedder, self).__init__()\n",
    "        assert os.path.exists(glove_file) and glove_file.endswith('.txt'), glove_file\n",
    "        \n",
    "        self.emb_dim = None\n",
    "        \n",
    "        self.PAD_TOKEN = '<PAD>'\n",
    "        self.UNK_TOKEN = '<UNK>'\n",
    "        self.sequence_length = seqlen\n",
    "        self.various_length = varlen\n",
    "        \n",
    "        idx2word = [self.PAD_TOKEN, self.UNK_TOKEN]\n",
    "        idx2vect = [None, None]\n",
    "        \n",
    "        with open(glove_file, 'r', encoding='utf-8') as fp:\n",
    "            for line in fp:\n",
    "                line = line.split()\n",
    "                \n",
    "                if line[0] not in vocab:\n",
    "                    continue\n",
    "                \n",
    "                w = line[0]\n",
    "                v = np.array([float(value) for value in line[1:]])\n",
    "                \n",
    "                if self.emb_dim is None:\n",
    "                    self.emb_dim = v.shape[0]\n",
    "            \n",
    "                idx2word.append(w)\n",
    "                idx2vect.append(v)\n",
    "                \n",
    "        idx2vect[0] = np.zeros(self.emb_dim)\n",
    "        idx2vect[1] = np.mean(idx2vect[2:], axis=0)\n",
    "    \n",
    "        self.embeddings = torch.from_numpy(np.array(idx2vect)).float()\n",
    "        self.embeddings = nn.Embedding.from_pretrained(self.embeddings, freeze=False)\n",
    "        \n",
    "        self.idx2word = {i: w for i, w in enumerate(idx2word)}\n",
    "        self.word2idx = {w: i for i, w in self.idx2word.items()}\n",
    "    \n",
    "    def forward(self, samples):\n",
    "        pad_idx = self.word2idx[self.PAD_TOKEN]\n",
    "        unk_idx = self.word2idx[self.UNK_TOKEN]\n",
    "        \n",
    "        if self.various_length:\n",
    "\n",
    "            #Find the length of the longest sample\n",
    "            maxlen = max([len(s) for s in samples])\n",
    "        \n",
    "        else:\n",
    "\n",
    "            #Use a constant length for all samples\n",
    "            maxlen = self.sequence_length\n",
    "        \n",
    "        encoded = [[self.word2idx.get(token, unk_idx) for token in tokens] for tokens in samples]\n",
    "        \n",
    "        padded = np.zeros((len(samples), maxlen), dtype=int)\n",
    "        masks = torch.zeros(len(samples), maxlen).long()\n",
    "        \n",
    "        # Padding and masking\n",
    "        for i in range(len(encoded)):\n",
    "            masks[i, :len(encoded[i])] = 1\n",
    "            padded[i, :len(encoded[i])] = np.array(encoded[i])[:maxlen]\n",
    "            # encoded[i] += [pad_idx] * max(0, (maxlen - len(encoded[i])))\n",
    "        \n",
    "        encoded = torch.tensor(padded).long()\n",
    "        \n",
    "        if torch.cuda.is_available():\n",
    "            encoded = encoded.cuda()\n",
    "            masks = masks.cuda()\n",
    "        \n",
    "        result = {\n",
    "            'output': self.embeddings(encoded),\n",
    "            'mask': masks,\n",
    "            'encoded': encoded\n",
    "        }\n",
    "        \n",
    "        return result"
   ]
  },
  {
   "cell_type": "code",
   "execution_count": 8,
   "metadata": {
    "colab": {
     "base_uri": "https://localhost:8080/",
     "height": 68
    },
    "colab_type": "code",
    "id": "pEp3vP0ljUk8",
    "outputId": "0910836d-5434-4610-8c5e-f526d6587664"
   },
   "outputs": [
    {
     "data": {
      "text/plain": [
       "WordEmbedder(\n",
       "  (embeddings): Embedding(19447, 300)\n",
       ")"
      ]
     },
     "execution_count": 8,
     "metadata": {},
     "output_type": "execute_result"
    }
   ],
   "source": [
    "embedder = torch.load('embedder_glove_300d.pt')\n",
    "embedder"
   ]
  },
  {
   "cell_type": "code",
   "execution_count": 9,
   "metadata": {},
   "outputs": [
    {
     "data": {
      "text/plain": [
       "__main__.WordEmbedder"
      ]
     },
     "execution_count": 9,
     "metadata": {},
     "output_type": "execute_result"
    }
   ],
   "source": [
    "type(embedder)"
   ]
  },
  {
   "cell_type": "markdown",
   "metadata": {},
   "source": []
  },
  {
   "cell_type": "code",
   "execution_count": 15,
   "metadata": {},
   "outputs": [],
   "source": []
  },
  {
   "cell_type": "markdown",
   "metadata": {
    "colab_type": "text",
    "id": "q_-JCBPkkoNq"
   },
   "source": [
    "**Helper Functions**"
   ]
  },
  {
   "cell_type": "code",
   "execution_count": 9,
   "metadata": {
    "colab": {},
    "colab_type": "code",
    "id": "a2bFiexQks5Y"
   },
   "outputs": [],
   "source": [
    "from sklearn.metrics import accuracy_score\n",
    "\n",
    "def track_best_model(model_path, model, epoch, best_acc, dev_acc, dev_loss):\n",
    "    if best_acc > dev_acc:\n",
    "        return best_acc, ''\n",
    "    state = {\n",
    "        'epoch': epoch,\n",
    "        'acc': dev_acc,\n",
    "        'loss': dev_loss,\n",
    "        'model': model.state_dict()\n",
    "    }\n",
    "    torch.save(state, model_path)\n",
    "    return dev_acc, ' * '\n",
    "\n",
    "def hot_target(batch_target):\n",
    "    result = []\n",
    "    for target in batch_target:\n",
    "        init_target = [0,0,0]\n",
    "        init_target[target]=1\n",
    "        result.append(init_target)\n",
    "    return result    "
   ]
  },
  {
   "cell_type": "code",
   "execution_count": 10,
   "metadata": {
    "colab": {},
    "colab_type": "code",
    "id": "XQxNjqZEktf_"
   },
   "outputs": [],
   "source": [
    "import random\n",
    "from torch.nn import functional as F\n",
    "\n",
    "def train(model, optimizer, shuffled_train_set, batch_size, loss_func=\"CE\"):\n",
    "\n",
    "    model.train()\n",
    "    \n",
    "    criterion = torch.nn.CrossEntropyLoss().to(\"cpu\")\n",
    "    total_loss = 0\n",
    "    batch_tokens, batch_target = [], []\n",
    "\n",
    "    random.Random(1234).shuffle(shuffled_train_set)\n",
    "\n",
    "    for i in range(len(shuffled_train_set)):\n",
    "\n",
    "        batch_tokens.append(shuffled_train_set[i]['tokens'])\n",
    "        batch_target.append(shuffled_train_set[i]['labelnumber'])\n",
    "\n",
    "        if len(batch_tokens) == batch_size or i == (len(shuffled_train_set) - 1):\n",
    "\n",
    "            optimizer.zero_grad()\n",
    "\n",
    "            out = model(batch_tokens)\n",
    "            y_pred = out.cpu()\n",
    "\n",
    "            if(loss_func=='CE'):\n",
    "                #loss method 1: CrossEntropyLoss\n",
    "                loss = criterion(y_pred, torch.tensor(batch_target))\n",
    "            else:\n",
    "                loss = torch.nn.functional.binary_cross_entropy(y_pred,torch.tensor(hot_target(batch_target)).float())\n",
    "            \n",
    "            total_loss += loss.item()\n",
    "\n",
    "            loss.backward()\n",
    "            optimizer.step()\n",
    "\n",
    "            batch_tokens, batch_target = [], []\n",
    "        \n",
    "    return model, shuffled_train_set"
   ]
  },
  {
   "cell_type": "code",
   "execution_count": null,
   "metadata": {
    "colab": {},
    "colab_type": "code",
    "id": "X5sZMJ9fku9k"
   },
   "outputs": [],
   "source": [
    "def evaluate(model, dev_set, batch_size, loss_func='CE'):\n",
    "\n",
    "    model.eval()\n",
    "    criterion = torch.nn.CrossEntropyLoss().to(\"cpu\")\n",
    "    total_loss = 0\n",
    "    accurate = 0\n",
    "    batch_tokens, batch_target = [], []\n",
    "    predictions, actual = [], []\n",
    "\n",
    "    with torch.no_grad():\n",
    "        for i in range(len(dev_set)):\n",
    "            \n",
    "            batch_tokens.append(dev_set[i]['tokens'])\n",
    "            batch_target.append(dev_set[i]['labelnumber'])\n",
    "\n",
    "            if len(batch_tokens) == batch_size or i == (len(dev_set)-1):\n",
    "\n",
    "                out = model(batch_tokens)\n",
    "                #print(\"out\",out)\n",
    "                y_pred = out.cpu()\n",
    "                \n",
    "                predictions.extend(y_pred.argmax(1).tolist())\n",
    "                actual.extend(batch_target)\n",
    "               \n",
    "                if(loss_func=='CE'):\n",
    "                    loss = criterion(y_pred, torch.tensor(batch_target))\n",
    "                else:\n",
    "                    loss = torch.nn.functional.binary_cross_entropy(y_pred,torch.tensor(hot_target(batch_target)).float())\n",
    "                \n",
    "                total_loss += loss.item()\n",
    "                accurate += (y_pred.argmax(1) == torch.tensor(batch_target)).sum().item()\n",
    "                \n",
    "                 \n",
    "\n",
    "                batch_tokens, batch_target = [], []\n",
    "\n",
    "    return predictions, total_loss/len(dev_set), accurate/len(dev_set)"
   ]
  },
  {
   "cell_type": "code",
   "execution_count": 15,
   "metadata": {
    "colab": {},
    "colab_type": "code",
    "id": "ko3ufksekwnL"
   },
   "outputs": [],
   "source": [
    "import torch.optim as optim\n",
    "def training_loop(config, model_, train_set, dev_set, loss_func='CE'):\n",
    "\n",
    "    model = model_\n",
    "    optimizer = optim.SGD(model.parameters(), lr=config['lr'], momentum=config['momentum'])\n",
    "\n",
    "    shuffled_train_set = train_set\n",
    "    best_acc = 0\n",
    "    \n",
    "\n",
    "    for epoch in range(config['epoch']):\n",
    "\n",
    "        epoch_msg = '[Epoch {}] / {}'.format(epoch+1, config['epoch'])\n",
    "\n",
    "        model, shuffled_train_set = train(model, optimizer, shuffled_train_set, batch_size=64, loss_func=loss_func)\n",
    "\n",
    "        train_pred, train_loss, train_acc = evaluate(model, shuffled_train_set, batch_size=128, loss_func=loss_func)\n",
    "        epoch_msg += ' [TRAIN] Loss: {:.4f}, Acc: {:.4f}'.format(train_loss, train_acc)\n",
    "        val_pred, val_loss, val_acc = evaluate(model, dev_set, batch_size=128, loss_func=loss_func)\n",
    "        epoch_msg += ' [DEV] Loss: {:.4f}, Acc: {:.4f}'.format(val_loss, val_acc)\n",
    "        #test_pred, test_loss, test_acc = evaluate(model, test_set, batch_size=128)\n",
    "        #epoch_msg += ' [TEST] Loss: {:.4f}, Acc: {:.4f}'.format(test_loss, test_acc)\n",
    "\n",
    "        best_acc, epoch_track = track_best_model(config['checkpoint'], model, epoch, best_acc, val_acc, val_loss)\n",
    "        print(epoch_msg + epoch_track)\n",
    "\n",
    "    print('Done Training!')\n",
    "\n",
    "    state = torch.load(config['checkpoint'])\n",
    "    model.load_state_dict(state['model'])\n",
    "\n",
    "    print('Returning best model from epoch {} with loss {:.5f} and accuracy {:.5f}'.format(state['epoch'], state['loss'], state['acc']))\n",
    "    return model"
   ]
  },
  {
   "cell_type": "markdown",
   "metadata": {
    "colab_type": "text",
    "id": "Pb59sWVskYxT"
   },
   "source": [
    "**MulBiGRU**"
   ]
  },
  {
   "cell_type": "code",
   "execution_count": 10,
   "metadata": {},
   "outputs": [],
   "source": [
    "class MulBiGRULayer(nn.Module):\n",
    "    def __init__(self, input_dim, hidden_dim, num_layers=2, drop=0.3):\n",
    "        super(MulBiGRULayer, self).__init__()\n",
    "        \n",
    "        self.hidden_dim = hidden_dim\n",
    "        self.gru = nn.GRU(input_dim, hidden_dim // 2, bidirectional=True, num_layers=num_layers, dropout=drop)\n",
    "\n",
    "    def forward(self, vectors, mask):\n",
    "        batch_size = vectors.size(0)\n",
    "        maxlen = vectors.size(1)\n",
    "        lengths = mask.sum(-1)\n",
    "        \n",
    "        gru_out, _ = self.gru(vectors)  # (batch, seq_len, hidden_dim)\n",
    "        \n",
    "        assert gru_out.size(0) == batch_size\n",
    "        assert gru_out.size(1) == maxlen\n",
    "        assert gru_out.size(2) == self.hidden_dim\n",
    "\n",
    "        # Separate the directions of the GRU\n",
    "        gru_out = gru_out.view(batch_size, maxlen, 2, self.hidden_dim // 2)\n",
    "\n",
    "        # Pick up the last hidden state per direction\n",
    "        fw_last_hn = gru_out[range(batch_size), lengths - 1, 0]  # (batch, hidden // 2)\n",
    "        bw_last_hn = gru_out[range(batch_size), 0, 1]            # (batch, hidden // 2)\n",
    "        \n",
    "        last_hn = torch.sigmoid(torch.cat([fw_last_hn, bw_last_hn], dim=1))     # (batch, hidden // 2) -> (batch, hidden)\n",
    "\n",
    "        return {'output': last_hn, 'outputs': gru_out}"
   ]
  },
  {
   "cell_type": "code",
   "execution_count": 11,
   "metadata": {
    "colab": {},
    "colab_type": "code",
    "id": "vWAgU01GkXmC"
   },
   "outputs": [],
   "source": [
    "class MyClassifier(nn.Module):\n",
    "    def __init__(self, embedder, extractor):\n",
    "        super(MyClassifier, self).__init__()\n",
    "        self.embedder = embedder\n",
    "        self.extractor = extractor\n",
    "        self.classifier = nn.Linear(extractor.hidden_dim, 3)\n",
    "        #self.fc1 = nn.Linear(extractor.hidden_dim, 128)\n",
    "        #self.fc2 = nn.Linear(128, 64)\n",
    "        #self.classifier = nn.Linear(64, 3)\n",
    "        \n",
    "    def forward(self, tokens, targets=None):\n",
    "        embedded = self.embedder(tokens)\n",
    "        extracted = self.extractor(embedded['output'], embedded['mask'])\n",
    "        \n",
    "        #print(type(self.classifier(extracted['output'])),self.classifier(extracted['output']).shape,self.classifier(extracted['output']))\n",
    "        #print(type(torch.sigmoid(self.classifier(extracted['output']))), torch.sigmoid(self.classifier(extracted['output'])).shape, torch.sigmoid(self.classifier(extracted['output'])))\n",
    "        #print(torch.softmax(self.classifier(extracted['output']), dim=1))\n",
    "        \n",
    "        #x = self.fc1(extracted['output'])\n",
    "        #x = self.fc2(x)\n",
    "        #output = torch.softmax(self.classifier(x),dim=1)\n",
    "        output = torch.softmax(self.classifier(extracted['output']), dim=1)\n",
    "       \n",
    "        return output"
   ]
  },
  {
   "cell_type": "code",
   "execution_count": 12,
   "metadata": {
    "colab": {},
    "colab_type": "code",
    "id": "YodY1Tg6jPZP"
   },
   "outputs": [],
   "source": [
    "\n",
    "\n",
    "class WordEmbedder(nn.Module):\n",
    "    def __init__(self, vocab, glove_file, seqlen = 300, varlen = False):\n",
    "        super(WordEmbedder, self).__init__()\n",
    "        assert os.path.exists(glove_file) and glove_file.endswith('.txt'), glove_file\n",
    "        \n",
    "        self.emb_dim = None\n",
    "        \n",
    "        self.PAD_TOKEN = '<PAD>'\n",
    "        self.UNK_TOKEN = '<UNK>'\n",
    "        self.sequence_length = seqlen\n",
    "        self.various_length = varlen\n",
    "        \n",
    "        idx2word = [self.PAD_TOKEN, self.UNK_TOKEN]\n",
    "        idx2vect = [None, None]\n",
    "        \n",
    "        with open(glove_file, 'r', encoding='utf-8') as fp:\n",
    "            for line in fp:\n",
    "                line = line.split()\n",
    "                \n",
    "                if line[0] not in vocab:\n",
    "                    continue\n",
    "                \n",
    "                w = line[0]\n",
    "                v = np.array([float(value) for value in line[1:]])\n",
    "                \n",
    "                if self.emb_dim is None:\n",
    "                    self.emb_dim = v.shape[0]\n",
    "            \n",
    "                idx2word.append(w)\n",
    "                idx2vect.append(v)\n",
    "                \n",
    "        idx2vect[0] = np.zeros(self.emb_dim)\n",
    "        idx2vect[1] = np.mean(idx2vect[2:], axis=0)\n",
    "    \n",
    "        self.embeddings = torch.from_numpy(np.array(idx2vect)).float()\n",
    "        self.embeddings = nn.Embedding.from_pretrained(self.embeddings, freeze=False)\n",
    "        \n",
    "        self.idx2word = {i: w for i, w in enumerate(idx2word)}\n",
    "        self.word2idx = {w: i for i, w in self.idx2word.items()}\n",
    "    \n",
    "    def forward(self, samples):\n",
    "        pad_idx = self.word2idx[self.PAD_TOKEN]\n",
    "        unk_idx = self.word2idx[self.UNK_TOKEN]\n",
    "        \n",
    "        if self.various_length:\n",
    "\n",
    "            #Find the length of the longest sample\n",
    "            maxlen = max([len(s) for s in samples])\n",
    "        \n",
    "        else:\n",
    "\n",
    "            #Use a constant length for all samples\n",
    "            maxlen = self.sequence_length\n",
    "        \n",
    "        encoded = [[self.word2idx.get(token, unk_idx) for token in tokens] for tokens in samples]\n",
    "        \n",
    "        padded = np.zeros((len(samples), maxlen), dtype=int)\n",
    "        masks = torch.zeros(len(samples), maxlen).long()\n",
    "        \n",
    "        # Padding and masking\n",
    "        for i in range(len(encoded)):\n",
    "            masks[i, :len(encoded[i])] = 1\n",
    "            padded[i, :len(encoded[i])] = np.array(encoded[i])[:maxlen]\n",
    "            # encoded[i] += [pad_idx] * max(0, (maxlen - len(encoded[i])))\n",
    "        \n",
    "        encoded = torch.tensor(padded).long()\n",
    "        \n",
    "        if torch.cuda.is_available():\n",
    "            encoded = encoded.cuda()\n",
    "            masks = masks.cuda()\n",
    "        \n",
    "        result = {\n",
    "            'output': self.embeddings(encoded),\n",
    "            'mask': masks,\n",
    "            'encoded': encoded\n",
    "        }\n",
    "        \n",
    "        return result"
   ]
  },
  {
   "cell_type": "code",
   "execution_count": 13,
   "metadata": {},
   "outputs": [
    {
     "data": {
      "text/plain": [
       "MulBiGRULayer(\n",
       "  (gru): GRU(300, 64, num_layers=2, dropout=0.3, bidirectional=True)\n",
       ")"
      ]
     },
     "execution_count": 13,
     "metadata": {},
     "output_type": "execute_result"
    }
   ],
   "source": [
    "mulbigru_layer = MulBiGRULayer(embedder.emb_dim, 128)\n",
    "mulbigru_layer"
   ]
  },
  {
   "cell_type": "code",
   "execution_count": 14,
   "metadata": {},
   "outputs": [
    {
     "data": {
      "text/plain": [
       "MyClassifier(\n",
       "  (embedder): WordEmbedder(\n",
       "    (embeddings): Embedding(19447, 300)\n",
       "  )\n",
       "  (extractor): MulBiGRULayer(\n",
       "    (gru): GRU(300, 64, num_layers=2, dropout=0.3, bidirectional=True)\n",
       "  )\n",
       "  (classifier): Linear(in_features=128, out_features=3, bias=True)\n",
       ")"
      ]
     },
     "execution_count": 14,
     "metadata": {},
     "output_type": "execute_result"
    }
   ],
   "source": [
    "mulbigru_model = MyClassifier(embedder, mulbigru_layer)\n",
    "mulbigru_model"
   ]
  },
  {
   "cell_type": "code",
   "execution_count": 25,
   "metadata": {},
   "outputs": [
    {
     "name": "stdout",
     "output_type": "stream",
     "text": [
      "[Epoch 1] / 100 [TRAIN] Loss: 0.0084, Acc: 0.4243 [DEV] Loss: 0.0087, Acc: 0.4145 * \n",
      "[Epoch 2] / 100 [TRAIN] Loss: 0.0082, Acc: 0.4495 [DEV] Loss: 0.0085, Acc: 0.4320 * \n",
      "[Epoch 3] / 100 [TRAIN] Loss: 0.0083, Acc: 0.4577 [DEV] Loss: 0.0086, Acc: 0.4415 * \n",
      "[Epoch 4] / 100 [TRAIN] Loss: 0.0080, Acc: 0.4978 [DEV] Loss: 0.0084, Acc: 0.4740 * \n",
      "[Epoch 5] / 100 [TRAIN] Loss: 0.0079, Acc: 0.5211 [DEV] Loss: 0.0083, Acc: 0.4705\n",
      "[Epoch 6] / 100 [TRAIN] Loss: 0.0078, Acc: 0.5294 [DEV] Loss: 0.0083, Acc: 0.4720\n",
      "[Epoch 7] / 100 [TRAIN] Loss: 0.0078, Acc: 0.5285 [DEV] Loss: 0.0083, Acc: 0.4650\n",
      "[Epoch 8] / 100 [TRAIN] Loss: 0.0077, Acc: 0.5250 [DEV] Loss: 0.0083, Acc: 0.4645\n",
      "[Epoch 9] / 100 [TRAIN] Loss: 0.0076, Acc: 0.5488 [DEV] Loss: 0.0083, Acc: 0.4685\n",
      "[Epoch 10] / 100 [TRAIN] Loss: 0.0078, Acc: 0.5135 [DEV] Loss: 0.0083, Acc: 0.4570\n",
      "[Epoch 11] / 100 [TRAIN] Loss: 0.0075, Acc: 0.5772 [DEV] Loss: 0.0083, Acc: 0.4740 * \n",
      "[Epoch 12] / 100 [TRAIN] Loss: 0.0075, Acc: 0.5782 [DEV] Loss: 0.0083, Acc: 0.4730\n",
      "[Epoch 13] / 100 [TRAIN] Loss: 0.0073, Acc: 0.6128 [DEV] Loss: 0.0083, Acc: 0.4805 * \n",
      "[Epoch 14] / 100 [TRAIN] Loss: 0.0071, Acc: 0.6289 [DEV] Loss: 0.0083, Acc: 0.4815 * \n",
      "[Epoch 15] / 100 [TRAIN] Loss: 0.0072, Acc: 0.6187 [DEV] Loss: 0.0084, Acc: 0.4740\n",
      "[Epoch 16] / 100 [TRAIN] Loss: 0.0071, Acc: 0.6408 [DEV] Loss: 0.0083, Acc: 0.4755\n",
      "[Epoch 17] / 100 [TRAIN] Loss: 0.0070, Acc: 0.6610 [DEV] Loss: 0.0083, Acc: 0.4875 * \n",
      "[Epoch 18] / 100 [TRAIN] Loss: 0.0069, Acc: 0.6638 [DEV] Loss: 0.0083, Acc: 0.4860\n",
      "[Epoch 19] / 100 [TRAIN] Loss: 0.0068, Acc: 0.6761 [DEV] Loss: 0.0083, Acc: 0.4850\n",
      "[Epoch 20] / 100 [TRAIN] Loss: 0.0069, Acc: 0.6684 [DEV] Loss: 0.0084, Acc: 0.4865\n",
      "[Epoch 21] / 100 [TRAIN] Loss: 0.0068, Acc: 0.6738 [DEV] Loss: 0.0084, Acc: 0.4725\n",
      "[Epoch 22] / 100 [TRAIN] Loss: 0.0068, Acc: 0.6797 [DEV] Loss: 0.0085, Acc: 0.4600\n",
      "[Epoch 23] / 100 [TRAIN] Loss: 0.0067, Acc: 0.6997 [DEV] Loss: 0.0084, Acc: 0.4755\n",
      "[Epoch 24] / 100 [TRAIN] Loss: 0.0066, Acc: 0.7017 [DEV] Loss: 0.0084, Acc: 0.4785\n",
      "[Epoch 25] / 100 [TRAIN] Loss: 0.0066, Acc: 0.7068 [DEV] Loss: 0.0084, Acc: 0.4775\n",
      "[Epoch 26] / 100 [TRAIN] Loss: 0.0066, Acc: 0.7116 [DEV] Loss: 0.0084, Acc: 0.4690\n",
      "[Epoch 27] / 100 [TRAIN] Loss: 0.0066, Acc: 0.7127 [DEV] Loss: 0.0085, Acc: 0.4695\n",
      "[Epoch 28] / 100 [TRAIN] Loss: 0.0065, Acc: 0.7147 [DEV] Loss: 0.0084, Acc: 0.4800\n",
      "[Epoch 29] / 100 [TRAIN] Loss: 0.0066, Acc: 0.7088 [DEV] Loss: 0.0084, Acc: 0.4815\n",
      "[Epoch 30] / 100 [TRAIN] Loss: 0.0065, Acc: 0.7242 [DEV] Loss: 0.0084, Acc: 0.4815\n",
      "[Epoch 31] / 100 [TRAIN] Loss: 0.0065, Acc: 0.7226 [DEV] Loss: 0.0084, Acc: 0.4725\n",
      "[Epoch 32] / 100 [TRAIN] Loss: 0.0065, Acc: 0.7199 [DEV] Loss: 0.0085, Acc: 0.4665\n",
      "[Epoch 33] / 100 [TRAIN] Loss: 0.0064, Acc: 0.7279 [DEV] Loss: 0.0084, Acc: 0.4710\n",
      "[Epoch 34] / 100 [TRAIN] Loss: 0.0064, Acc: 0.7319 [DEV] Loss: 0.0085, Acc: 0.4685\n",
      "[Epoch 35] / 100 [TRAIN] Loss: 0.0064, Acc: 0.7336 [DEV] Loss: 0.0084, Acc: 0.4770\n",
      "[Epoch 36] / 100 [TRAIN] Loss: 0.0064, Acc: 0.7324 [DEV] Loss: 0.0085, Acc: 0.4745\n",
      "[Epoch 37] / 100 [TRAIN] Loss: 0.0064, Acc: 0.7396 [DEV] Loss: 0.0085, Acc: 0.4740\n",
      "[Epoch 38] / 100 [TRAIN] Loss: 0.0064, Acc: 0.7362 [DEV] Loss: 0.0085, Acc: 0.4715\n",
      "[Epoch 39] / 100 [TRAIN] Loss: 0.0064, Acc: 0.7355 [DEV] Loss: 0.0085, Acc: 0.4715\n",
      "[Epoch 40] / 100 [TRAIN] Loss: 0.0064, Acc: 0.7385 [DEV] Loss: 0.0085, Acc: 0.4735\n",
      "[Epoch 41] / 100 [TRAIN] Loss: 0.0063, Acc: 0.7416 [DEV] Loss: 0.0085, Acc: 0.4730\n",
      "[Epoch 42] / 100 [TRAIN] Loss: 0.0063, Acc: 0.7418 [DEV] Loss: 0.0085, Acc: 0.4745\n",
      "[Epoch 43] / 100 [TRAIN] Loss: 0.0063, Acc: 0.7466 [DEV] Loss: 0.0085, Acc: 0.4725\n",
      "[Epoch 44] / 100 [TRAIN] Loss: 0.0063, Acc: 0.7450 [DEV] Loss: 0.0085, Acc: 0.4670\n",
      "[Epoch 45] / 100 [TRAIN] Loss: 0.0063, Acc: 0.7458 [DEV] Loss: 0.0085, Acc: 0.4655\n",
      "[Epoch 46] / 100 [TRAIN] Loss: 0.0063, Acc: 0.7492 [DEV] Loss: 0.0085, Acc: 0.4615\n",
      "[Epoch 47] / 100 [TRAIN] Loss: 0.0063, Acc: 0.7452 [DEV] Loss: 0.0085, Acc: 0.4710\n",
      "[Epoch 48] / 100 [TRAIN] Loss: 0.0063, Acc: 0.7520 [DEV] Loss: 0.0085, Acc: 0.4675\n",
      "[Epoch 49] / 100 [TRAIN] Loss: 0.0062, Acc: 0.7558 [DEV] Loss: 0.0085, Acc: 0.4635\n",
      "[Epoch 50] / 100 [TRAIN] Loss: 0.0062, Acc: 0.7541 [DEV] Loss: 0.0086, Acc: 0.4625\n",
      "[Epoch 51] / 100 [TRAIN] Loss: 0.0063, Acc: 0.7528 [DEV] Loss: 0.0085, Acc: 0.4605\n",
      "[Epoch 52] / 100 [TRAIN] Loss: 0.0063, Acc: 0.7516 [DEV] Loss: 0.0085, Acc: 0.4685\n",
      "[Epoch 53] / 100 [TRAIN] Loss: 0.0062, Acc: 0.7568 [DEV] Loss: 0.0086, Acc: 0.4665\n",
      "[Epoch 54] / 100 [TRAIN] Loss: 0.0062, Acc: 0.7573 [DEV] Loss: 0.0086, Acc: 0.4660\n",
      "[Epoch 55] / 100 [TRAIN] Loss: 0.0062, Acc: 0.7582 [DEV] Loss: 0.0085, Acc: 0.4665\n",
      "[Epoch 56] / 100 [TRAIN] Loss: 0.0062, Acc: 0.7557 [DEV] Loss: 0.0085, Acc: 0.4660\n",
      "[Epoch 57] / 100 [TRAIN] Loss: 0.0062, Acc: 0.7612 [DEV] Loss: 0.0086, Acc: 0.4675\n",
      "[Epoch 58] / 100 [TRAIN] Loss: 0.0062, Acc: 0.7604 [DEV] Loss: 0.0085, Acc: 0.4745\n",
      "[Epoch 59] / 100 [TRAIN] Loss: 0.0062, Acc: 0.7628 [DEV] Loss: 0.0085, Acc: 0.4720\n",
      "[Epoch 60] / 100 [TRAIN] Loss: 0.0062, Acc: 0.7621 [DEV] Loss: 0.0085, Acc: 0.4705\n",
      "[Epoch 61] / 100 [TRAIN] Loss: 0.0062, Acc: 0.7602 [DEV] Loss: 0.0085, Acc: 0.4695\n",
      "[Epoch 62] / 100 [TRAIN] Loss: 0.0062, Acc: 0.7642 [DEV] Loss: 0.0085, Acc: 0.4700\n",
      "[Epoch 63] / 100 [TRAIN] Loss: 0.0061, Acc: 0.7678 [DEV] Loss: 0.0086, Acc: 0.4640\n",
      "[Epoch 64] / 100 [TRAIN] Loss: 0.0061, Acc: 0.7665 [DEV] Loss: 0.0085, Acc: 0.4710\n",
      "[Epoch 65] / 100 [TRAIN] Loss: 0.0062, Acc: 0.7655 [DEV] Loss: 0.0085, Acc: 0.4695\n",
      "[Epoch 66] / 100 [TRAIN] Loss: 0.0061, Acc: 0.7691 [DEV] Loss: 0.0085, Acc: 0.4710\n",
      "[Epoch 67] / 100 [TRAIN] Loss: 0.0061, Acc: 0.7700 [DEV] Loss: 0.0086, Acc: 0.4680\n",
      "[Epoch 68] / 100 [TRAIN] Loss: 0.0061, Acc: 0.7699 [DEV] Loss: 0.0085, Acc: 0.4725\n",
      "[Epoch 69] / 100 [TRAIN] Loss: 0.0061, Acc: 0.7702 [DEV] Loss: 0.0085, Acc: 0.4705\n",
      "[Epoch 70] / 100 [TRAIN] Loss: 0.0061, Acc: 0.7715 [DEV] Loss: 0.0085, Acc: 0.4700\n",
      "[Epoch 71] / 100 [TRAIN] Loss: 0.0061, Acc: 0.7718 [DEV] Loss: 0.0085, Acc: 0.4725\n",
      "[Epoch 72] / 100 [TRAIN] Loss: 0.0061, Acc: 0.7719 [DEV] Loss: 0.0085, Acc: 0.4740\n",
      "[Epoch 73] / 100 [TRAIN] Loss: 0.0061, Acc: 0.7698 [DEV] Loss: 0.0086, Acc: 0.4655\n",
      "[Epoch 74] / 100 [TRAIN] Loss: 0.0061, Acc: 0.7729 [DEV] Loss: 0.0085, Acc: 0.4705\n",
      "[Epoch 75] / 100 [TRAIN] Loss: 0.0061, Acc: 0.7726 [DEV] Loss: 0.0085, Acc: 0.4705\n",
      "[Epoch 76] / 100 [TRAIN] Loss: 0.0061, Acc: 0.7735 [DEV] Loss: 0.0085, Acc: 0.4690\n",
      "[Epoch 77] / 100 [TRAIN] Loss: 0.0061, Acc: 0.7732 [DEV] Loss: 0.0085, Acc: 0.4690\n",
      "[Epoch 78] / 100 [TRAIN] Loss: 0.0061, Acc: 0.7715 [DEV] Loss: 0.0086, Acc: 0.4675\n",
      "[Epoch 79] / 100 [TRAIN] Loss: 0.0061, Acc: 0.7742 [DEV] Loss: 0.0086, Acc: 0.4685\n",
      "[Epoch 80] / 100 [TRAIN] Loss: 0.0061, Acc: 0.7743 [DEV] Loss: 0.0086, Acc: 0.4660\n",
      "[Epoch 81] / 100 [TRAIN] Loss: 0.0061, Acc: 0.7732 [DEV] Loss: 0.0085, Acc: 0.4695\n",
      "[Epoch 82] / 100 [TRAIN] Loss: 0.0061, Acc: 0.7752 [DEV] Loss: 0.0085, Acc: 0.4715\n",
      "[Epoch 83] / 100 [TRAIN] Loss: 0.0061, Acc: 0.7764 [DEV] Loss: 0.0086, Acc: 0.4675\n",
      "[Epoch 84] / 100 [TRAIN] Loss: 0.0061, Acc: 0.7751 [DEV] Loss: 0.0085, Acc: 0.4715\n",
      "[Epoch 85] / 100 [TRAIN] Loss: 0.0061, Acc: 0.7772 [DEV] Loss: 0.0085, Acc: 0.4725\n",
      "[Epoch 86] / 100 [TRAIN] Loss: 0.0061, Acc: 0.7788 [DEV] Loss: 0.0085, Acc: 0.4710\n",
      "[Epoch 87] / 100 [TRAIN] Loss: 0.0061, Acc: 0.7767 [DEV] Loss: 0.0085, Acc: 0.4770\n",
      "[Epoch 88] / 100 [TRAIN] Loss: 0.0061, Acc: 0.7774 [DEV] Loss: 0.0085, Acc: 0.4735\n",
      "[Epoch 89] / 100 [TRAIN] Loss: 0.0060, Acc: 0.7789 [DEV] Loss: 0.0085, Acc: 0.4740\n",
      "[Epoch 90] / 100 [TRAIN] Loss: 0.0061, Acc: 0.7773 [DEV] Loss: 0.0085, Acc: 0.4725\n",
      "[Epoch 91] / 100 [TRAIN] Loss: 0.0061, Acc: 0.7761 [DEV] Loss: 0.0085, Acc: 0.4740\n",
      "[Epoch 92] / 100 [TRAIN] Loss: 0.0061, Acc: 0.7765 [DEV] Loss: 0.0085, Acc: 0.4745\n",
      "[Epoch 93] / 100 [TRAIN] Loss: 0.0060, Acc: 0.7808 [DEV] Loss: 0.0085, Acc: 0.4705\n",
      "[Epoch 94] / 100 [TRAIN] Loss: 0.0060, Acc: 0.7815 [DEV] Loss: 0.0085, Acc: 0.4700\n",
      "[Epoch 95] / 100 [TRAIN] Loss: 0.0060, Acc: 0.7815 [DEV] Loss: 0.0085, Acc: 0.4695\n",
      "[Epoch 96] / 100 [TRAIN] Loss: 0.0060, Acc: 0.7823 [DEV] Loss: 0.0085, Acc: 0.4710\n",
      "[Epoch 97] / 100 [TRAIN] Loss: 0.0060, Acc: 0.7823 [DEV] Loss: 0.0085, Acc: 0.4690\n",
      "[Epoch 98] / 100 [TRAIN] Loss: 0.0060, Acc: 0.7808 [DEV] Loss: 0.0085, Acc: 0.4765\n",
      "[Epoch 99] / 100 [TRAIN] Loss: 0.0060, Acc: 0.7817 [DEV] Loss: 0.0085, Acc: 0.4760\n",
      "[Epoch 100] / 100 [TRAIN] Loss: 0.0060, Acc: 0.7804 [DEV] Loss: 0.0085, Acc: 0.4730\n",
      "Done Training!\n",
      "Returning best model from epoch 16 with loss 0.00831 and accuracy 0.48750\n"
     ]
    }
   ],
   "source": [
    "config = {\n",
    "    'lr': 0.2,\n",
    "    'momentum': 0.90,\n",
    "    'epoch': 100,\n",
    "    'checkpoint': 'mulbigru_model.pt'\n",
    "}\n",
    "model4 = training_loop(config, mulbigru_model, train_set, dev_set)"
   ]
  },
  {
   "cell_type": "code",
   "execution_count": null,
   "metadata": {},
   "outputs": [],
   "source": []
  },
  {
   "cell_type": "code",
   "execution_count": 15,
   "metadata": {},
   "outputs": [],
   "source": [
    "train_tokens = [row['tokens'] for index,row in dftrain.iterrows()]\n",
    "dev_tokens = [row['tokens'] for index,row in dfdev.iterrows()]"
   ]
  },
  {
   "cell_type": "code",
   "execution_count": 16,
   "metadata": {},
   "outputs": [],
   "source": [
    "class2index = {'OAG':2,'CAG':0,'NAG':1}\n",
    "index2class = {2:'OAG',0:'CAG',1:'NAG'}"
   ]
  },
  {
   "cell_type": "code",
   "execution_count": 33,
   "metadata": {},
   "outputs": [],
   "source": [
    "out = model4(dev_tokens)\n",
    "dev_pred = out.cpu().argmax(1).tolist()"
   ]
  },
  {
   "cell_type": "code",
   "execution_count": 23,
   "metadata": {},
   "outputs": [],
   "source": [
    "dev_label=[]\n",
    "for i in range(len(dev_set)):\n",
    "    dev_label.append(dev_set[i]['labelnumber'])\n",
    "\n",
    "dev_label_class = [index2class[x]  for x in dev_label]"
   ]
  },
  {
   "cell_type": "code",
   "execution_count": null,
   "metadata": {},
   "outputs": [],
   "source": [
    "dev_pred_class = [index2class[x]  for x in dev_pred]"
   ]
  },
  {
   "cell_type": "code",
   "execution_count": 35,
   "metadata": {},
   "outputs": [
    {
     "name": "stdout",
     "output_type": "stream",
     "text": [
      "['CAG', 'NAG', 'NAG', 'NAG', 'OAG', 'CAG', 'NAG', 'CAG', 'CAG', 'CAG', 'NAG', 'NAG', 'NAG', 'OAG', 'CAG', 'CAG', 'CAG', 'CAG', 'OAG', 'NAG']\n",
      "['NAG', 'CAG', 'OAG', 'NAG', 'CAG', 'CAG', 'CAG', 'CAG', 'OAG', 'NAG', 'NAG', 'NAG', 'NAG', 'CAG', 'CAG', 'NAG', 'CAG', 'CAG', 'NAG', 'NAG']\n"
     ]
    }
   ],
   "source": [
    "print(dev_label_class[:20])\n",
    "print(dev_pred_class[:20])"
   ]
  },
  {
   "cell_type": "code",
   "execution_count": 36,
   "metadata": {},
   "outputs": [
    {
     "name": "stdout",
     "output_type": "stream",
     "text": [
      "              precision    recall  f1-score   support\n",
      "\n",
      "         OAG       0.42      0.54      0.47       700\n",
      "         NAG       0.56      0.58      0.57       815\n",
      "         CAG       0.49      0.26      0.34       485\n",
      "\n",
      "    accuracy                           0.49      2000\n",
      "   macro avg       0.49      0.46      0.46      2000\n",
      "weighted avg       0.49      0.49      0.48      2000\n",
      "\n"
     ]
    }
   ],
   "source": [
    "target_names = ['OAG', 'NAG', 'CAG']\n",
    "print(sm.classification_report(dev_label_class, dev_pred_class,target_names=target_names))"
   ]
  },
  {
   "cell_type": "code",
   "execution_count": 37,
   "metadata": {},
   "outputs": [
    {
     "name": "stdout",
     "output_type": "stream",
     "text": [
      "[[126 234 125]\n",
      " [ 82 379 239]\n",
      " [ 48 298 469]]\n"
     ]
    }
   ],
   "source": [
    "print(sm.confusion_matrix(dev_label_class, dev_pred_class, labels=['OAG', 'CAG', 'NAG']) )"
   ]
  },
  {
   "cell_type": "code",
   "execution_count": 39,
   "metadata": {},
   "outputs": [
    {
     "ename": "NameError",
     "evalue": "name 'dev_label_class' is not defined",
     "output_type": "error",
     "traceback": [
      "\u001b[1;31m---------------------------------------------------------------------------\u001b[0m",
      "\u001b[1;31mNameError\u001b[0m                                 Traceback (most recent call last)",
      "\u001b[1;32m<ipython-input-39-87443f207409>\u001b[0m in \u001b[0;36m<module>\u001b[1;34m\u001b[0m\n\u001b[1;32m----> 1\u001b[1;33m \u001b[0mskplt\u001b[0m\u001b[1;33m.\u001b[0m\u001b[0mmetrics\u001b[0m\u001b[1;33m.\u001b[0m\u001b[0mplot_confusion_matrix\u001b[0m\u001b[1;33m(\u001b[0m\u001b[0mdev_label_class\u001b[0m\u001b[1;33m,\u001b[0m \u001b[0mdev_pred_class\u001b[0m\u001b[1;33m,\u001b[0m \u001b[0mnormalize\u001b[0m\u001b[1;33m=\u001b[0m\u001b[1;32mFalse\u001b[0m\u001b[1;33m)\u001b[0m\u001b[1;33m\u001b[0m\u001b[1;33m\u001b[0m\u001b[0m\n\u001b[0m\u001b[0;32m      2\u001b[0m \u001b[0mplt\u001b[0m\u001b[1;33m.\u001b[0m\u001b[0mshow\u001b[0m\u001b[1;33m(\u001b[0m\u001b[1;33m)\u001b[0m\u001b[1;33m\u001b[0m\u001b[1;33m\u001b[0m\u001b[0m\n",
      "\u001b[1;31mNameError\u001b[0m: name 'dev_label_class' is not defined"
     ]
    }
   ],
   "source": [
    "\n",
    "skplt.metrics.plot_confusion_matrix(dev_label_class, dev_pred_class, normalize=False)\n",
    "plt.show()"
   ]
  },
  {
   "cell_type": "markdown",
   "metadata": {},
   "source": [
    "**Saving predictions**"
   ]
  },
  {
   "cell_type": "code",
   "execution_count": 40,
   "metadata": {},
   "outputs": [],
   "source": [
    "dftest = pd.read_pickle('test_tokenized_df.pkl')"
   ]
  },
  {
   "cell_type": "code",
   "execution_count": 41,
   "metadata": {},
   "outputs": [],
   "source": [
    "test_set = dftest.to_dict('records')"
   ]
  },
  {
   "cell_type": "code",
   "execution_count": 42,
   "metadata": {},
   "outputs": [
    {
     "data": {
      "text/plain": [
       "1001"
      ]
     },
     "execution_count": 42,
     "metadata": {},
     "output_type": "execute_result"
    }
   ],
   "source": [
    "len(test_set)"
   ]
  },
  {
   "cell_type": "code",
   "execution_count": 43,
   "metadata": {},
   "outputs": [],
   "source": [
    "def test(model_, test_set_, batch_size_):\n",
    "    model = model_\n",
    "    model_.eval()\n",
    "    criterion = torch.nn.CrossEntropyLoss().to(\"cpu\")\n",
    "\n",
    "    batch_tokens = []\n",
    "    predictions = []\n",
    "    batch_count = 0\n",
    "\n",
    "    with torch.no_grad():\n",
    "        for i in range(len(test_set_)):\n",
    "            \n",
    "            batch_tokens.append(test_set_[i]['tokens'])\n",
    "\n",
    "            if len(batch_tokens) == batch_size_ or i == (len(test_set_)-1):\n",
    "                batch_count+=1\n",
    "                out = model(batch_tokens)\n",
    "                #print(\"out\",out)\n",
    "                y_pred = out.cpu()\n",
    "                #print(\"y_pred\",y_pred)\n",
    "\n",
    "                predictions.extend(y_pred.argmax(1).tolist())\n",
    "                \n",
    "                #print(batch_count,len(batch_tokens))\n",
    "                batch_tokens = []\n",
    "                \n",
    "    \n",
    "    #print(\"evaluate actual\",actual)\n",
    "    #print(\"evaluate predic\",predictions)\n",
    "    #accuracy = accuracy_score(actual, predictions)\n",
    "    \n",
    "    #print(accurate,len(test_set_))\n",
    "    \n",
    "    #print(\"evaluate loss\",total_loss/len(test_set), \"accurary\",accurate/len(test_set))\n",
    "\n",
    "    return predictions"
   ]
  },
  {
   "cell_type": "code",
   "execution_count": 44,
   "metadata": {},
   "outputs": [],
   "source": [
    "predictions = test(model4,test_set, 128)"
   ]
  },
  {
   "cell_type": "code",
   "execution_count": 45,
   "metadata": {},
   "outputs": [
    {
     "data": {
      "text/plain": [
       "1001"
      ]
     },
     "execution_count": 45,
     "metadata": {},
     "output_type": "execute_result"
    }
   ],
   "source": [
    "len(predictions)"
   ]
  },
  {
   "cell_type": "code",
   "execution_count": 46,
   "metadata": {},
   "outputs": [],
   "source": [
    "predictedlabels = [index2class[x] for x in predictions]"
   ]
  },
  {
   "cell_type": "code",
   "execution_count": 47,
   "metadata": {},
   "outputs": [
    {
     "data": {
      "text/plain": [
       "(1001, 1001)"
      ]
     },
     "execution_count": 47,
     "metadata": {},
     "output_type": "execute_result"
    }
   ],
   "source": [
    "len(predictedlabels), len(dftest)"
   ]
  },
  {
   "cell_type": "code",
   "execution_count": null,
   "metadata": {},
   "outputs": [],
   "source": []
  },
  {
   "cell_type": "code",
   "execution_count": 48,
   "metadata": {},
   "outputs": [],
   "source": [
    "dftest['Label'] = predictedlabels"
   ]
  },
  {
   "cell_type": "code",
   "execution_count": 49,
   "metadata": {},
   "outputs": [
    {
     "data": {
      "text/html": [
       "<div>\n",
       "<style scoped>\n",
       "    .dataframe tbody tr th:only-of-type {\n",
       "        vertical-align: middle;\n",
       "    }\n",
       "\n",
       "    .dataframe tbody tr th {\n",
       "        vertical-align: top;\n",
       "    }\n",
       "\n",
       "    .dataframe thead th {\n",
       "        text-align: right;\n",
       "    }\n",
       "</style>\n",
       "<table border=\"1\" class=\"dataframe\">\n",
       "  <thead>\n",
       "    <tr style=\"text-align: right;\">\n",
       "      <th></th>\n",
       "      <th>ID</th>\n",
       "      <th>Label</th>\n",
       "    </tr>\n",
       "  </thead>\n",
       "  <tbody>\n",
       "    <tr>\n",
       "      <th>0</th>\n",
       "      <td>facebook_corpus_msr_495558</td>\n",
       "      <td>CAG</td>\n",
       "    </tr>\n",
       "    <tr>\n",
       "      <th>1</th>\n",
       "      <td>facebook_corpus_msr_1561809</td>\n",
       "      <td>CAG</td>\n",
       "    </tr>\n",
       "    <tr>\n",
       "      <th>2</th>\n",
       "      <td>facebook_corpus_msr_442487</td>\n",
       "      <td>CAG</td>\n",
       "    </tr>\n",
       "    <tr>\n",
       "      <th>3</th>\n",
       "      <td>facebook_corpus_msr_495517</td>\n",
       "      <td>NAG</td>\n",
       "    </tr>\n",
       "    <tr>\n",
       "      <th>4</th>\n",
       "      <td>facebook_corpus_msr_1805455</td>\n",
       "      <td>CAG</td>\n",
       "    </tr>\n",
       "  </tbody>\n",
       "</table>\n",
       "</div>"
      ],
      "text/plain": [
       "                            ID Label\n",
       "0   facebook_corpus_msr_495558   CAG\n",
       "1  facebook_corpus_msr_1561809   CAG\n",
       "2   facebook_corpus_msr_442487   CAG\n",
       "3   facebook_corpus_msr_495517   NAG\n",
       "4  facebook_corpus_msr_1805455   CAG"
      ]
     },
     "execution_count": 49,
     "metadata": {},
     "output_type": "execute_result"
    }
   ],
   "source": [
    "dftest[['ID','Label']].head()"
   ]
  },
  {
   "cell_type": "code",
   "execution_count": 20,
   "metadata": {},
   "outputs": [
    {
     "ename": "NameError",
     "evalue": "name 'dftest' is not defined",
     "output_type": "error",
     "traceback": [
      "\u001b[1;31m---------------------------------------------------------------------------\u001b[0m",
      "\u001b[1;31mNameError\u001b[0m                                 Traceback (most recent call last)",
      "\u001b[1;32m<ipython-input-20-dae2b3eedd81>\u001b[0m in \u001b[0;36m<module>\u001b[1;34m\u001b[0m\n\u001b[1;32m----> 1\u001b[1;33m \u001b[0mdftest\u001b[0m\u001b[1;33m.\u001b[0m\u001b[0mto_csv\u001b[0m\u001b[1;33m(\u001b[0m\u001b[1;34m'prediction_mulbigru_all.csv'\u001b[0m\u001b[1;33m,\u001b[0m\u001b[0mindex\u001b[0m\u001b[1;33m=\u001b[0m\u001b[1;32mFalse\u001b[0m\u001b[1;33m)\u001b[0m\u001b[1;33m\u001b[0m\u001b[1;33m\u001b[0m\u001b[0m\n\u001b[0m",
      "\u001b[1;31mNameError\u001b[0m: name 'dftest' is not defined"
     ]
    }
   ],
   "source": [
    "dftest.to_csv('prediction_mulbigru_all.csv',index=False)"
   ]
  },
  {
   "cell_type": "code",
   "execution_count": null,
   "metadata": {},
   "outputs": [],
   "source": []
  },
  {
   "cell_type": "markdown",
   "metadata": {},
   "source": [
    "**Analysis**"
   ]
  },
  {
   "cell_type": "code",
   "execution_count": 17,
   "metadata": {},
   "outputs": [
    {
     "data": {
      "text/plain": [
       "<All keys matched successfully>"
      ]
     },
     "execution_count": 17,
     "metadata": {},
     "output_type": "execute_result"
    }
   ],
   "source": [
    "state = torch.load('mulbigru_model.pt')\n",
    "mulbigru_model.load_state_dict(state['model'])"
   ]
  },
  {
   "cell_type": "code",
   "execution_count": 18,
   "metadata": {},
   "outputs": [],
   "source": [
    "out =  mulbigru_model(dev_tokens)\n",
    "dev_pred = out.cpu().argmax(1).tolist()"
   ]
  },
  {
   "cell_type": "code",
   "execution_count": 19,
   "metadata": {},
   "outputs": [
    {
     "data": {
      "text/plain": [
       "[1, 0]"
      ]
     },
     "execution_count": 19,
     "metadata": {},
     "output_type": "execute_result"
    }
   ],
   "source": [
    "dev_pred[:2]"
   ]
  },
  {
   "cell_type": "code",
   "execution_count": 20,
   "metadata": {},
   "outputs": [],
   "source": [
    "dev_pred_class = [index2class[x]  for x in dev_pred]"
   ]
  },
  {
   "cell_type": "code",
   "execution_count": 24,
   "metadata": {},
   "outputs": [],
   "source": [
    "dev_label_class = [index2class[x]  for x in dev_label]"
   ]
  },
  {
   "cell_type": "code",
   "execution_count": 25,
   "metadata": {},
   "outputs": [
    {
     "data": {
      "image/png": "[encoded data removed]",
      "text/plain": [
       "<Figure size 432x288 with 2 Axes>"
      ]
     },
     "metadata": {
      "needs_background": "light"
     },
     "output_type": "display_data"
    }
   ],
   "source": [
    "\n",
    "skplt.metrics.plot_confusion_matrix(dev_label_class, dev_pred_class, normalize=False)\n",
    "plt.show()"
   ]
  },
  {
   "cell_type": "code",
   "execution_count": null,
   "metadata": {},
   "outputs": [],
   "source": []
  },
  {
   "cell_type": "code",
   "execution_count": null,
   "metadata": {},
   "outputs": [],
   "source": []
  },
  {
   "cell_type": "code",
   "execution_count": null,
   "metadata": {},
   "outputs": [],
   "source": []
  },
  {
   "cell_type": "code",
   "execution_count": 21,
   "metadata": {},
   "outputs": [],
   "source": [
    "pd.DataFrame(dev_pred_class).to_csv('dev_prediction_mulbigru.csv',index=False)"
   ]
  },
  {
   "cell_type": "code",
   "execution_count": null,
   "metadata": {},
   "outputs": [],
   "source": []
  }
 ],
 "metadata": {
  "kernelspec": {
   "display_name": "Python 3",
   "language": "python",
   "name": "python3"
  },
  "language_info": {
   "codemirror_mode": {
    "name": "ipython",
    "version": 3
   },
   "file_extension": ".py",
   "mimetype": "text/x-python",
   "name": "python",
   "nbconvert_exporter": "python",
   "pygments_lexer": "ipython3",
   "version": "3.7.7"
  }
 },
 "nbformat": 4,
 "nbformat_minor": 4
}
